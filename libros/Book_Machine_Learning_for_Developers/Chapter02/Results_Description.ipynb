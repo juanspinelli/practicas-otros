{
 "cells": [
  {
   "cell_type": "code",
   "execution_count": 28,
   "metadata": {
    "collapsed": false
   },
   "outputs": [
    {
     "name": "stdout",
     "output_type": "stream",
     "text": [
      "[[0 1 1 0 0 0 0 0]\n",
      " [0 0 0 0 1 0 0 0]\n",
      " [0 1 0 0 0 0 1 0]\n",
      " [0 0 0 1 0 1 0 0]\n",
      " [0 0 0 0 3 0 0 0]\n",
      " [0 0 0 1 0 1 0 0]\n",
      " [0 0 0 0 0 0 0 0]\n",
      " [0 0 0 0 0 0 0 2]]\n"
     ]
    },
    {
     "data": {
      "image/png": "[encoded data removed]",
      "text/plain": [
       "<matplotlib.figure.Figure at 0x7f1f71250550>"
      ]
     },
     "metadata": {},
     "output_type": "display_data"
    }
   ],
   "source": [
    "from sklearn.metrics import confusion_matrix\n",
    "import matplotlib.pyplot as plt\n",
    "import numpy as np\n",
    "\n",
    "%matplotlib inline\n",
    "y_true = [8,5,6,8,5,3,1,6,4,2,5,3,1,4]\n",
    "y_pred = [8,5,6,8,5,2,3,4,4,5,5,7,2,6]\n",
    "y = confusion_matrix(y_true, y_pred)\n",
    "print y \n",
    "plt.imshow(confusion_matrix(y_true, y_pred), interpolation='nearest', cmap='plasma')\n",
    "\n",
    "plt.xticks(np.arange(0,8), np.arange(1,9))\n",
    "plt.yticks(np.arange(0,8), np.arange(1,9))\n",
    "\n",
    "plt.show()\n"
   ]
  }
 ],
 "metadata": {
  "kernelspec": {
   "display_name": "Python 2",
   "language": "python",
   "name": "python2"
  },
  "language_info": {
   "codemirror_mode": {
    "name": "ipython",
    "version": 2
   },
   "file_extension": ".py",
   "mimetype": "text/x-python",
   "name": "python",
   "nbconvert_exporter": "python",
   "pygments_lexer": "ipython2",
   "version": "2.7.11+"
  }
 },
 "nbformat": 4,
 "nbformat_minor": 0
}
