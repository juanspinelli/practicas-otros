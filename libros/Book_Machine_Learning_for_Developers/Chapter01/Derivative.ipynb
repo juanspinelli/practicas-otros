{
 "cells": [
  {
   "cell_type": "markdown",
   "metadata": {},
   "source": [
    "## Function change rate"
   ]
  },
  {
   "cell_type": "code",
   "execution_count": 6,
   "metadata": {
    "collapsed": false
   },
   "outputs": [
    {
     "data": {
      "text/plain": [
       "[]"
      ]
     },
     "execution_count": 6,
     "metadata": {},
     "output_type": "execute_result"
    },
    {
     "data": {
      "image/png": "[encoded data removed]",
      "text/plain": [
       "<matplotlib.figure.Figure at 0x7f9bdb701c50>"
      ]
     },
     "metadata": {},
     "output_type": "display_data"
    }
   ],
   "source": [
    "import matplotlib.pyplot as plt\n",
    "import numpy as np\n",
    "%matplotlib inline\n",
    "\n",
    "def quadratic(var):\n",
    "    return 2* pow(var,2)\n",
    "\n",
    "x=np.arange(0.,5.,.1)\n",
    "\n",
    "plt.plot(x,quadratic(x))\n",
    "plt.plot([1,4], [quadratic(1), quadratic(4)],  linewidth=2.0)\n",
    "plt.plot([1,4], [quadratic(1), quadratic(1)],  linewidth=3.0, label=\"Change in x\")\n",
    "plt.plot([4,4], [quadratic(1), quadratic(4)],  linewidth=3.0, label=\"Change in y\")\n",
    "\n",
    "plt.legend()\n",
    "plt.plot (x, 10*x -8 )\n",
    "plt.plot()"
   ]
  },
  {
   "cell_type": "markdown",
   "metadata": {},
   "source": [
    "## Derivative approximation"
   ]
  },
  {
   "cell_type": "code",
   "execution_count": 15,
   "metadata": {
    "collapsed": false
   },
   "outputs": [
    {
     "name": "stdout",
     "output_type": "stream",
     "text": [
      "delta: 0.1, estimated derivative: 4.2\n",
      "delta: 0.01, estimated derivative: 4.02\n",
      "delta: 0.001, estimated derivative: 4.002\n",
      "delta: 0.0001, estimated derivative: 4.0002\n",
      "delta: 1e-05, estimated derivative: 4.00002\n"
     ]
    }
   ],
   "source": [
    "initial_delta = .1\n",
    "x1 = 1 \n",
    "\n",
    "for power in range (1,6):\n",
    "    delta = pow (initial_delta, power)\n",
    "    derivative_aprox= (quadratic(x1+delta) - quadratic (x1) )/ ((x1+delta) - x1 )\n",
    "    print \"delta: \" + str(delta) + \", estimated derivative: \" + str(derivative_aprox)"
   ]
  },
  {
   "cell_type": "code",
   "execution_count": null,
   "metadata": {
    "collapsed": true
   },
   "outputs": [],
   "source": []
  }
 ],
 "metadata": {
  "kernelspec": {
   "display_name": "Python 2",
   "language": "python",
   "name": "python2"
  },
  "language_info": {
   "codemirror_mode": {
    "name": "ipython",
    "version": 2
   },
   "file_extension": ".py",
   "mimetype": "text/x-python",
   "name": "python",
   "nbconvert_exporter": "python",
   "pygments_lexer": "ipython2",
   "version": "2.7.11+"
  }
 },
 "nbformat": 4,
 "nbformat_minor": 0
}
