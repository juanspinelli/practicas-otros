{
 "cells": [
  {
   "cell_type": "code",
   "execution_count": 1,
   "metadata": {},
   "outputs": [],
   "source": [
    "import matplotlib.pyplot as plt\n",
    "import numpy as np\n",
    "import pandas as pd"
   ]
  },
  {
   "cell_type": "code",
   "execution_count": 2,
   "metadata": {},
   "outputs": [],
   "source": [
    "np.random.seed(1)\n",
    "mu, sigma = 50, 10\n",
    "s = np.random.normal(mu, sigma, 100)"
   ]
  },
  {
   "cell_type": "code",
   "execution_count": 3,
   "metadata": {},
   "outputs": [],
   "source": [
    "s[85] = 120\n",
    "s[15] = -120"
   ]
  },
  {
   "cell_type": "code",
   "execution_count": 4,
   "metadata": {},
   "outputs": [
    {
     "data": {
      "text/plain": [
       "array([  66.24345364,   43.88243586,   44.71828248,   39.27031378,\n",
       "         58.65407629,   26.98461303,   67.44811764,   42.38793099,\n",
       "         53.19039096,   47.50629625,   64.62107937,   29.39859291,\n",
       "         46.77582796,   46.15945645,   61.33769442, -120.        ,\n",
       "         48.27571792,   41.22141582,   50.42213747,   55.82815214,\n",
       "         38.99380823,   61.4472371 ,   59.01590721,   55.02494339,\n",
       "         59.00855949,   43.16272141,   48.77109774,   40.64230566,\n",
       "         47.3211192 ,   55.30355467,   43.08339248,   46.03246473,\n",
       "         43.128273  ,   41.54794359,   43.28753869,   49.87335401,\n",
       "         38.82689651,   52.34415698,   66.59802177,   57.42044161,\n",
       "         48.08164448,   41.12371036,   42.52841706,   66.92454601,\n",
       "         50.50807755,   43.63004353,   51.90915485,   71.00255136,\n",
       "         51.20158952,   56.1720311 ,   53.0017032 ,   46.47750154,\n",
       "         38.57481802,   46.50657278,   47.91105767,   55.86623191,\n",
       "         58.38983414,   59.31102081,   52.85587325,   58.85141164,\n",
       "         42.45602059,   62.52868155,   55.1292982 ,   47.01907165,\n",
       "         54.88518147,   49.24428287,   61.31629387,   65.19816816,\n",
       "         71.85575407,   36.03503665,   35.55886195,   44.95534137,\n",
       "         51.60037069,   58.76168921,   53.15634947,   29.77798784,\n",
       "         46.93795987,   58.27974643,   52.30094735,   57.6201118 ,\n",
       "         47.77671857,   47.99241931,   51.86561391,   54.10051647,\n",
       "         51.9829972 ,  120.        ,   43.29337714,   53.77563786,\n",
       "         51.21821271,   61.29483908,   61.9891788 ,   51.85156417,\n",
       "         46.2471505 ,   43.61269593,   54.23494354,   50.77340068,\n",
       "         46.56146324,   50.43596857,   43.79999156,   56.98032034])"
      ]
     },
     "execution_count": 4,
     "metadata": {},
     "output_type": "execute_result"
    }
   ],
   "source": [
    "s"
   ]
  },
  {
   "cell_type": "code",
   "execution_count": 5,
   "metadata": {},
   "outputs": [
    {
     "data": {
      "text/html": [
       "<div>\n",
       "<style scoped>\n",
       "    .dataframe tbody tr th:only-of-type {\n",
       "        vertical-align: middle;\n",
       "    }\n",
       "\n",
       "    .dataframe tbody tr th {\n",
       "        vertical-align: top;\n",
       "    }\n",
       "\n",
       "    .dataframe thead th {\n",
       "        text-align: right;\n",
       "    }\n",
       "</style>\n",
       "<table border=\"1\" class=\"dataframe\">\n",
       "  <thead>\n",
       "    <tr style=\"text-align: right;\">\n",
       "      <th></th>\n",
       "      <th>Data</th>\n",
       "    </tr>\n",
       "  </thead>\n",
       "  <tbody>\n",
       "    <tr>\n",
       "      <th>0</th>\n",
       "      <td>66.243454</td>\n",
       "    </tr>\n",
       "    <tr>\n",
       "      <th>1</th>\n",
       "      <td>43.882436</td>\n",
       "    </tr>\n",
       "    <tr>\n",
       "      <th>2</th>\n",
       "      <td>44.718282</td>\n",
       "    </tr>\n",
       "    <tr>\n",
       "      <th>3</th>\n",
       "      <td>39.270314</td>\n",
       "    </tr>\n",
       "    <tr>\n",
       "      <th>4</th>\n",
       "      <td>58.654076</td>\n",
       "    </tr>\n",
       "  </tbody>\n",
       "</table>\n",
       "</div>"
      ],
      "text/plain": [
       "        Data\n",
       "0  66.243454\n",
       "1  43.882436\n",
       "2  44.718282\n",
       "3  39.270314\n",
       "4  58.654076"
      ]
     },
     "execution_count": 5,
     "metadata": {},
     "output_type": "execute_result"
    }
   ],
   "source": [
    "df = pd.DataFrame(s,columns=['Data'])\n",
    "df.head()"
   ]
  },
  {
   "cell_type": "code",
   "execution_count": 6,
   "metadata": {},
   "outputs": [],
   "source": [
    "df['col_zscore'] = (df['Data'] - df['Data'].mean())/df['Data'].std(ddof=0)"
   ]
  },
  {
   "cell_type": "code",
   "execution_count": 7,
   "metadata": {},
   "outputs": [],
   "source": [
    "df['outlier'] = (abs(df['col_zscore'])> 3).astype(int)"
   ]
  },
  {
   "cell_type": "code",
   "execution_count": 8,
   "metadata": {},
   "outputs": [
    {
     "data": {
      "text/html": [
       "<div>\n",
       "<style scoped>\n",
       "    .dataframe tbody tr th:only-of-type {\n",
       "        vertical-align: middle;\n",
       "    }\n",
       "\n",
       "    .dataframe tbody tr th {\n",
       "        vertical-align: top;\n",
       "    }\n",
       "\n",
       "    .dataframe thead th {\n",
       "        text-align: right;\n",
       "    }\n",
       "</style>\n",
       "<table border=\"1\" class=\"dataframe\">\n",
       "  <thead>\n",
       "    <tr style=\"text-align: right;\">\n",
       "      <th></th>\n",
       "      <th>Data</th>\n",
       "      <th>col_zscore</th>\n",
       "      <th>outlier</th>\n",
       "    </tr>\n",
       "  </thead>\n",
       "  <tbody>\n",
       "    <tr>\n",
       "      <th>95</th>\n",
       "      <td>50.773401</td>\n",
       "      <td>0.052473</td>\n",
       "      <td>0</td>\n",
       "    </tr>\n",
       "    <tr>\n",
       "      <th>96</th>\n",
       "      <td>46.561463</td>\n",
       "      <td>-0.154182</td>\n",
       "      <td>0</td>\n",
       "    </tr>\n",
       "    <tr>\n",
       "      <th>97</th>\n",
       "      <td>50.435969</td>\n",
       "      <td>0.035917</td>\n",
       "      <td>0</td>\n",
       "    </tr>\n",
       "    <tr>\n",
       "      <th>98</th>\n",
       "      <td>43.799992</td>\n",
       "      <td>-0.289671</td>\n",
       "      <td>0</td>\n",
       "    </tr>\n",
       "    <tr>\n",
       "      <th>99</th>\n",
       "      <td>56.980320</td>\n",
       "      <td>0.357010</td>\n",
       "      <td>0</td>\n",
       "    </tr>\n",
       "  </tbody>\n",
       "</table>\n",
       "</div>"
      ],
      "text/plain": [
       "         Data  col_zscore  outlier\n",
       "95  50.773401    0.052473        0\n",
       "96  46.561463   -0.154182        0\n",
       "97  50.435969    0.035917        0\n",
       "98  43.799992   -0.289671        0\n",
       "99  56.980320    0.357010        0"
      ]
     },
     "execution_count": 8,
     "metadata": {},
     "output_type": "execute_result"
    }
   ],
   "source": [
    "df.tail()"
   ]
  },
  {
   "cell_type": "code",
   "execution_count": 9,
   "metadata": {},
   "outputs": [
    {
     "name": "stdout",
     "output_type": "stream",
     "text": [
      "Print number of outliers = 2\n"
     ]
    }
   ],
   "source": [
    "print (\"Print number of outliers = \" +str(df.outlier.value_counts()[1]))"
   ]
  },
  {
   "cell_type": "code",
   "execution_count": 10,
   "metadata": {},
   "outputs": [
    {
     "data": {
      "text/plain": [
       "array([0, 1], dtype=int64)"
      ]
     },
     "execution_count": 10,
     "metadata": {},
     "output_type": "execute_result"
    }
   ],
   "source": [
    "df.outlier.unique()"
   ]
  },
  {
   "cell_type": "code",
   "execution_count": 11,
   "metadata": {},
   "outputs": [
    {
     "data": {
      "text/html": [
       "<div>\n",
       "<style scoped>\n",
       "    .dataframe tbody tr th:only-of-type {\n",
       "        vertical-align: middle;\n",
       "    }\n",
       "\n",
       "    .dataframe tbody tr th {\n",
       "        vertical-align: top;\n",
       "    }\n",
       "\n",
       "    .dataframe thead th {\n",
       "        text-align: right;\n",
       "    }\n",
       "</style>\n",
       "<table border=\"1\" class=\"dataframe\">\n",
       "  <thead>\n",
       "    <tr style=\"text-align: right;\">\n",
       "      <th></th>\n",
       "      <th>Data</th>\n",
       "      <th>col_zscore</th>\n",
       "      <th>outlier</th>\n",
       "    </tr>\n",
       "  </thead>\n",
       "  <tbody>\n",
       "    <tr>\n",
       "      <th>15</th>\n",
       "      <td>-120.0</td>\n",
       "      <td>-8.326370</td>\n",
       "      <td>1</td>\n",
       "    </tr>\n",
       "    <tr>\n",
       "      <th>85</th>\n",
       "      <td>120.0</td>\n",
       "      <td>3.449014</td>\n",
       "      <td>1</td>\n",
       "    </tr>\n",
       "  </tbody>\n",
       "</table>\n",
       "</div>"
      ],
      "text/plain": [
       "     Data  col_zscore  outlier\n",
       "15 -120.0   -8.326370        1\n",
       "85  120.0    3.449014        1"
      ]
     },
     "execution_count": 11,
     "metadata": {},
     "output_type": "execute_result"
    }
   ],
   "source": [
    "df[df['outlier'] == 1]"
   ]
  },
  {
   "cell_type": "code",
   "execution_count": null,
   "metadata": {},
   "outputs": [],
   "source": []
  }
 ],
 "metadata": {
  "kernelspec": {
   "display_name": "Python 3",
   "language": "python",
   "name": "python3"
  },
  "language_info": {
   "codemirror_mode": {
    "name": "ipython",
    "version": 3
   },
   "file_extension": ".py",
   "mimetype": "text/x-python",
   "name": "python",
   "nbconvert_exporter": "python",
   "pygments_lexer": "ipython3",
   "version": "3.7.3"
  }
 },
 "nbformat": 4,
 "nbformat_minor": 2
}
