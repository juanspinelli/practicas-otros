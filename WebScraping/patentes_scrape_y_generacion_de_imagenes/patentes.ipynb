{
 "cells": [
  {
   "cell_type": "code",
   "execution_count": 27,
   "metadata": {},
   "outputs": [],
   "source": [
    "import requests\n",
    "import urllib.request\n",
    "import pandas as pd\n",
    "import re\n",
    "import json\n",
    "from bs4 import BeautifulSoup\n",
    "from IPython.display import Image, display"
   ]
  },
  {
   "cell_type": "code",
   "execution_count": 2,
   "metadata": {},
   "outputs": [
    {
     "data": {
      "image/png": "[encoded data removed]",
      "text/plain": [
       "<IPython.core.display.Image object>"
      ]
     },
     "metadata": {},
     "output_type": "display_data"
    }
   ],
   "source": [
    "display(Image(filename='web.png'))"
   ]
  },
  {
   "cell_type": "code",
   "execution_count": 3,
   "metadata": {},
   "outputs": [],
   "source": [
    "url = 'https://www.arba.gov.ar/DominiosRetenidos/DominiosRetenidos.asp?pagina=1&buscarpor=&obj=&Ordenarpor='\n",
    "path_file_dest = r'data.json'\n",
    "response = requests.get(url, headers={'User-Agent': 'Mozilla/5.0 (Platform; Security; OS-or-CPU; Localization; rv:1.4) Gecko/20030624 Netscape/7.1 (ax)'})"
   ]
  },
  {
   "cell_type": "code",
   "execution_count": 4,
   "metadata": {},
   "outputs": [],
   "source": [
    "def write_doc_json(content, mode):\n",
    "    own_file = open(path_file_dest, mode, encoding='utf-8')\n",
    "    own_file.write(content.decode('utf-8'))\n",
    "    own_file.close()\n",
    "    print('\\n•  El archivo json fue sobre-escrito con exito!')"
   ]
  },
  {
   "cell_type": "code",
   "execution_count": 5,
   "metadata": {
    "scrolled": true
   },
   "outputs": [
    {
     "name": "stdout",
     "output_type": "stream",
     "text": [
      "\n",
      "•  El archivo json fue sobre-escrito con exito!\n"
     ]
    }
   ],
   "source": [
    "if response.status_code == 200:\n",
    "    info = []\n",
    "    soup = BeautifulSoup(response.text, \"html.parser\")\n",
    "    data = soup.findAll('td', attrs={'class': 'TituloTabla'})\n",
    "    paginacion = data[0].get_text().split(' ')[-1]\n",
    "    \n",
    "    for x in range (1, int(paginacion) + 1):\n",
    "        new_url = url.replace('1', str(x))\n",
    "        new_response = requests.get(new_url, headers={'User-Agent': 'Mozilla/5.0 (Platform; Security; OS-or-CPU; Localization; rv:1.4) Gecko/20030624 Netscape/7.1 (ax)'})\n",
    "        if new_response.status_code == 200:\n",
    "            new_soup = BeautifulSoup(new_response.text, \"html.parser\")\n",
    "            tabla = new_soup.findAll('table')\n",
    "            tr = tabla[3].findAll('tr')\n",
    "      \n",
    "            for m in range(3, len(tr)):\n",
    "                td = tr[m].findAll('td', {'class': 'TDtabla'})\n",
    "                td_ultimo = tr[m].findAll('td', {'class': 'TDultimo'})\n",
    "                \n",
    "                individuo = {'Dominio' : td[0].get_text().rstrip().lstrip(), \n",
    "                             'Marca' : td[3].get_text().rstrip().lstrip(), \n",
    "                             'Localidad' : td_ultimo[0].get_text().rstrip().lstrip()}\n",
    "        \n",
    "                info.append(individuo)\n",
    "            \n",
    "    content = json.dumps(info, indent=4, sort_keys=True, ensure_ascii=False).encode('utf-8')\n",
    "    write_doc_json(content ,'w+')\n",
    "\n",
    "else:\n",
    "    print('No se pudo conectar')"
   ]
  },
  {
   "cell_type": "code",
   "execution_count": 6,
   "metadata": {},
   "outputs": [],
   "source": [
    "df_informacion = pd.read_json(path_file_dest, encoding = 'UTF-8')"
   ]
  },
  {
   "cell_type": "code",
   "execution_count": 7,
   "metadata": {},
   "outputs": [
    {
     "data": {
      "text/html": [
       "<div>\n",
       "<style scoped>\n",
       "    .dataframe tbody tr th:only-of-type {\n",
       "        vertical-align: middle;\n",
       "    }\n",
       "\n",
       "    .dataframe tbody tr th {\n",
       "        vertical-align: top;\n",
       "    }\n",
       "\n",
       "    .dataframe thead th {\n",
       "        text-align: right;\n",
       "    }\n",
       "</style>\n",
       "<table border=\"1\" class=\"dataframe\">\n",
       "  <thead>\n",
       "    <tr style=\"text-align: right;\">\n",
       "      <th></th>\n",
       "      <th>Dominio</th>\n",
       "      <th>Localidad</th>\n",
       "      <th>Marca</th>\n",
       "    </tr>\n",
       "  </thead>\n",
       "  <tbody>\n",
       "    <tr>\n",
       "      <th>0</th>\n",
       "      <td>AA000RA</td>\n",
       "      <td>BARADERO</td>\n",
       "      <td>FORD RANGER2 DC 4X2 XL SAFETY 2.2L DSL</td>\n",
       "    </tr>\n",
       "    <tr>\n",
       "      <th>1</th>\n",
       "      <td>AA000ZT</td>\n",
       "      <td>VILLA ROSA</td>\n",
       "      <td>RENAULT FLUENCE PH2 1.6 DYNAMIQUE</td>\n",
       "    </tr>\n",
       "    <tr>\n",
       "      <th>2</th>\n",
       "      <td>AA002HA</td>\n",
       "      <td>25 DE MAYO</td>\n",
       "      <td>TOYOTA HILUX 4X2 D/C DX 2.4 TDI 6 M/T</td>\n",
       "    </tr>\n",
       "    <tr>\n",
       "      <th>3</th>\n",
       "      <td>AA003YI</td>\n",
       "      <td>PILAR</td>\n",
       "      <td>PEUGEOT EXPERT 1.6 HDI CONFORT</td>\n",
       "    </tr>\n",
       "    <tr>\n",
       "      <th>4</th>\n",
       "      <td>AA005MX</td>\n",
       "      <td>LIMA</td>\n",
       "      <td>FORD ECOSPORT S 1.6L MT N</td>\n",
       "    </tr>\n",
       "  </tbody>\n",
       "</table>\n",
       "</div>"
      ],
      "text/plain": [
       "   Dominio   Localidad                                   Marca\n",
       "0  AA000RA    BARADERO  FORD RANGER2 DC 4X2 XL SAFETY 2.2L DSL\n",
       "1  AA000ZT  VILLA ROSA       RENAULT FLUENCE PH2 1.6 DYNAMIQUE\n",
       "2  AA002HA  25 DE MAYO   TOYOTA HILUX 4X2 D/C DX 2.4 TDI 6 M/T\n",
       "3  AA003YI       PILAR          PEUGEOT EXPERT 1.6 HDI CONFORT\n",
       "4  AA005MX        LIMA               FORD ECOSPORT S 1.6L MT N"
      ]
     },
     "execution_count": 7,
     "metadata": {},
     "output_type": "execute_result"
    }
   ],
   "source": [
    "df_informacion.head()"
   ]
  },
  {
   "cell_type": "code",
   "execution_count": 8,
   "metadata": {},
   "outputs": [],
   "source": [
    "df_informacion['Tipo'] = ''"
   ]
  },
  {
   "cell_type": "code",
   "execution_count": 9,
   "metadata": {},
   "outputs": [],
   "source": [
    "df_informacion['Dominio'] = df_informacion['Dominio'].map(lambda x: x[:3] + ' ' + x[3:6] if len(x) == 6 else x[:2] + ' ' + x[2:5] + ' ' + x[5:7])"
   ]
  },
  {
   "cell_type": "code",
   "execution_count": 10,
   "metadata": {},
   "outputs": [
    {
     "data": {
      "text/html": [
       "<div>\n",
       "<style scoped>\n",
       "    .dataframe tbody tr th:only-of-type {\n",
       "        vertical-align: middle;\n",
       "    }\n",
       "\n",
       "    .dataframe tbody tr th {\n",
       "        vertical-align: top;\n",
       "    }\n",
       "\n",
       "    .dataframe thead th {\n",
       "        text-align: right;\n",
       "    }\n",
       "</style>\n",
       "<table border=\"1\" class=\"dataframe\">\n",
       "  <thead>\n",
       "    <tr style=\"text-align: right;\">\n",
       "      <th></th>\n",
       "      <th>Dominio</th>\n",
       "      <th>Localidad</th>\n",
       "      <th>Marca</th>\n",
       "      <th>Tipo</th>\n",
       "    </tr>\n",
       "  </thead>\n",
       "  <tbody>\n",
       "    <tr>\n",
       "      <th>0</th>\n",
       "      <td>AA 000 RA</td>\n",
       "      <td>BARADERO</td>\n",
       "      <td>FORD RANGER2 DC 4X2 XL SAFETY 2.2L DSL</td>\n",
       "      <td></td>\n",
       "    </tr>\n",
       "    <tr>\n",
       "      <th>1</th>\n",
       "      <td>AA 000 ZT</td>\n",
       "      <td>VILLA ROSA</td>\n",
       "      <td>RENAULT FLUENCE PH2 1.6 DYNAMIQUE</td>\n",
       "      <td></td>\n",
       "    </tr>\n",
       "    <tr>\n",
       "      <th>2</th>\n",
       "      <td>AA 002 HA</td>\n",
       "      <td>25 DE MAYO</td>\n",
       "      <td>TOYOTA HILUX 4X2 D/C DX 2.4 TDI 6 M/T</td>\n",
       "      <td></td>\n",
       "    </tr>\n",
       "    <tr>\n",
       "      <th>3</th>\n",
       "      <td>AA 003 YI</td>\n",
       "      <td>PILAR</td>\n",
       "      <td>PEUGEOT EXPERT 1.6 HDI CONFORT</td>\n",
       "      <td></td>\n",
       "    </tr>\n",
       "    <tr>\n",
       "      <th>4</th>\n",
       "      <td>AA 005 MX</td>\n",
       "      <td>LIMA</td>\n",
       "      <td>FORD ECOSPORT S 1.6L MT N</td>\n",
       "      <td></td>\n",
       "    </tr>\n",
       "  </tbody>\n",
       "</table>\n",
       "</div>"
      ],
      "text/plain": [
       "     Dominio   Localidad                                   Marca Tipo\n",
       "0  AA 000 RA    BARADERO  FORD RANGER2 DC 4X2 XL SAFETY 2.2L DSL     \n",
       "1  AA 000 ZT  VILLA ROSA       RENAULT FLUENCE PH2 1.6 DYNAMIQUE     \n",
       "2  AA 002 HA  25 DE MAYO   TOYOTA HILUX 4X2 D/C DX 2.4 TDI 6 M/T     \n",
       "3  AA 003 YI       PILAR          PEUGEOT EXPERT 1.6 HDI CONFORT     \n",
       "4  AA 005 MX        LIMA               FORD ECOSPORT S 1.6L MT N     "
      ]
     },
     "execution_count": 10,
     "metadata": {},
     "output_type": "execute_result"
    }
   ],
   "source": [
    "df_informacion.head()"
   ]
  },
  {
   "cell_type": "code",
   "execution_count": 11,
   "metadata": {},
   "outputs": [],
   "source": [
    "df_informacion['Tipo'] = df_informacion['Dominio'].map(lambda x: 'Vieja' if len(x) == 7 else 'Nueva')"
   ]
  },
  {
   "cell_type": "code",
   "execution_count": 12,
   "metadata": {},
   "outputs": [
    {
     "data": {
      "text/html": [
       "<div>\n",
       "<style scoped>\n",
       "    .dataframe tbody tr th:only-of-type {\n",
       "        vertical-align: middle;\n",
       "    }\n",
       "\n",
       "    .dataframe tbody tr th {\n",
       "        vertical-align: top;\n",
       "    }\n",
       "\n",
       "    .dataframe thead th {\n",
       "        text-align: right;\n",
       "    }\n",
       "</style>\n",
       "<table border=\"1\" class=\"dataframe\">\n",
       "  <thead>\n",
       "    <tr style=\"text-align: right;\">\n",
       "      <th></th>\n",
       "      <th>Dominio</th>\n",
       "      <th>Localidad</th>\n",
       "      <th>Marca</th>\n",
       "      <th>Tipo</th>\n",
       "    </tr>\n",
       "  </thead>\n",
       "  <tbody>\n",
       "    <tr>\n",
       "      <th>0</th>\n",
       "      <td>AA 000 RA</td>\n",
       "      <td>BARADERO</td>\n",
       "      <td>FORD RANGER2 DC 4X2 XL SAFETY 2.2L DSL</td>\n",
       "      <td>Nueva</td>\n",
       "    </tr>\n",
       "    <tr>\n",
       "      <th>1</th>\n",
       "      <td>AA 000 ZT</td>\n",
       "      <td>VILLA ROSA</td>\n",
       "      <td>RENAULT FLUENCE PH2 1.6 DYNAMIQUE</td>\n",
       "      <td>Nueva</td>\n",
       "    </tr>\n",
       "    <tr>\n",
       "      <th>2</th>\n",
       "      <td>AA 002 HA</td>\n",
       "      <td>25 DE MAYO</td>\n",
       "      <td>TOYOTA HILUX 4X2 D/C DX 2.4 TDI 6 M/T</td>\n",
       "      <td>Nueva</td>\n",
       "    </tr>\n",
       "    <tr>\n",
       "      <th>3</th>\n",
       "      <td>AA 003 YI</td>\n",
       "      <td>PILAR</td>\n",
       "      <td>PEUGEOT EXPERT 1.6 HDI CONFORT</td>\n",
       "      <td>Nueva</td>\n",
       "    </tr>\n",
       "    <tr>\n",
       "      <th>4</th>\n",
       "      <td>AA 005 MX</td>\n",
       "      <td>LIMA</td>\n",
       "      <td>FORD ECOSPORT S 1.6L MT N</td>\n",
       "      <td>Nueva</td>\n",
       "    </tr>\n",
       "  </tbody>\n",
       "</table>\n",
       "</div>"
      ],
      "text/plain": [
       "     Dominio   Localidad                                   Marca   Tipo\n",
       "0  AA 000 RA    BARADERO  FORD RANGER2 DC 4X2 XL SAFETY 2.2L DSL  Nueva\n",
       "1  AA 000 ZT  VILLA ROSA       RENAULT FLUENCE PH2 1.6 DYNAMIQUE  Nueva\n",
       "2  AA 002 HA  25 DE MAYO   TOYOTA HILUX 4X2 D/C DX 2.4 TDI 6 M/T  Nueva\n",
       "3  AA 003 YI       PILAR          PEUGEOT EXPERT 1.6 HDI CONFORT  Nueva\n",
       "4  AA 005 MX        LIMA               FORD ECOSPORT S 1.6L MT N  Nueva"
      ]
     },
     "execution_count": 12,
     "metadata": {},
     "output_type": "execute_result"
    }
   ],
   "source": [
    "df_informacion.head()"
   ]
  },
  {
   "cell_type": "code",
   "execution_count": 13,
   "metadata": {},
   "outputs": [
    {
     "data": {
      "text/plain": [
       "6077"
      ]
     },
     "execution_count": 13,
     "metadata": {},
     "output_type": "execute_result"
    }
   ],
   "source": [
    "patentes_viejas = df_informacion['Dominio'][df_informacion['Tipo'] == 'Vieja'].to_list()\n",
    "len(patentes_viejas)"
   ]
  },
  {
   "cell_type": "code",
   "execution_count": 14,
   "metadata": {},
   "outputs": [
    {
     "data": {
      "text/plain": [
       "3359"
      ]
     },
     "execution_count": 14,
     "metadata": {},
     "output_type": "execute_result"
    }
   ],
   "source": [
    "patentes_nuevas = df_informacion['Dominio'][df_informacion['Tipo'] == 'Nueva'].to_list()\n",
    "len(patentes_nuevas)"
   ]
  },
  {
   "cell_type": "code",
   "execution_count": 15,
   "metadata": {},
   "outputs": [],
   "source": [
    "from PIL import Image, ImageDraw, ImageFont\n",
    "import cv2"
   ]
  },
  {
   "cell_type": "code",
   "execution_count": 18,
   "metadata": {},
   "outputs": [],
   "source": [
    "patente_vieja = Image.open(\"modelo/patente.jpg\")\n",
    "patente_nueva = Image.open(\"modelo/patente_nueva.jpg\")\n",
    "\n",
    "font_vieja = ImageFont.truetype(\"font/LicensePlate.ttf\", 150)\n",
    "font_nueva = ImageFont.truetype(\"font/LicensePlate.ttf\", 145)\n",
    "\n",
    "mask = cv2.imread('efecto/oxido.jpg')\n",
    "mask_vieja = cv2.resize(mask, (patente_vieja.size[0], patente_vieja.size[1]), interpolation=cv2.INTER_AREA)[...,(2,1,0)]\n",
    "mask_nueva = cv2.resize(mask, (patente_nueva.size[0], patente_nueva.size[1]), interpolation=cv2.INTER_AREA)[...,(2,1,0)]"
   ]
  },
  {
   "cell_type": "code",
   "execution_count": 19,
   "metadata": {},
   "outputs": [],
   "source": [
    "for x in range (0, len(patentes_viejas)):\n",
    "    image_temp = patente_vieja.copy()\n",
    "    draw = ImageDraw.Draw(image_temp)\n",
    "    draw.text((20, 40), patentes_viejas[x], font=font_vieja, fill=\"white\")\n",
    "    image_temp.save(\"patentes/patente_vieja_\"+str(x)+\".jpg\")\n",
    "    \n",
    "    image_temp = cv2.imread(\"patentes/patente_vieja_\"+str(x)+\".jpg\")\n",
    "    dst = cv2.addWeighted(image_temp, 0.4, mask_vieja, 0.4, 0)\n",
    "    img_oxido_leve = Image.fromarray(dst)\n",
    "    img_oxido_leve.save(\"patentes/patente_vieja_oxido_leve_\"+str(x)+\".jpg\")\n",
    "    \n",
    "    res = cv2.bitwise_and(image_temp, mask_vieja)\n",
    "    img_oxido_fuerte = Image.fromarray(res)\n",
    "    img_oxido_fuerte.save(\"patentes/patente_vieja_img_oxido_fuerte_\"+str(x)+\".jpg\")"
   ]
  },
  {
   "cell_type": "code",
   "execution_count": 20,
   "metadata": {},
   "outputs": [],
   "source": [
    "for x in range (0, len(patentes_nuevas)):\n",
    "    image_temp = patente_nueva.copy()\n",
    "    draw = ImageDraw.Draw(image_temp)\n",
    "    draw.text((16, 50), patentes_nuevas[x], font=font_nueva, fill=\"black\")\n",
    "    image_temp.save(\"patentes/patente_nueva_\"+str(x)+\".jpg\")\n",
    "\n",
    "    image_temp = cv2.imread(\"patentes/patente_nueva_\"+str(x)+\".jpg\")\n",
    "    dst = cv2.addWeighted(image_temp, 0.4, mask_nueva, 0.4, 0)\n",
    "    img_oxido_leve = Image.fromarray(dst)\n",
    "    img_oxido_leve.save(\"patentes/patente_nueva_oxido_leve_\"+str(x)+\".jpg\")\n",
    "\n",
    "    res = cv2.bitwise_and(image_temp, mask_nueva)\n",
    "    img_oxido_fuerte = Image.fromarray(res)\n",
    "    img_oxido_fuerte.save(\"patentes/patente_nueva_img_oxido_fuerte_\"+str(x)+\".jpg\")"
   ]
  },
  {
   "cell_type": "code",
   "execution_count": 21,
   "metadata": {},
   "outputs": [],
   "source": [
    "import pytesseract\n",
    "from PIL import Image\n",
    "pytesseract.pytesseract.tesseract_cmd = 'C:/Program Files/Tesseract-OCR/tesseract'"
   ]
  },
  {
   "cell_type": "code",
   "execution_count": 22,
   "metadata": {},
   "outputs": [
    {
     "data": {
      "image/png": "[encoded data removed]",
      "text/plain": [
       "<PIL.JpegImagePlugin.JpegImageFile image mode=RGB size=598x196 at 0x234C5D3D6D8>"
      ]
     },
     "execution_count": 22,
     "metadata": {},
     "output_type": "execute_result"
    }
   ],
   "source": [
    "im = Image.open(\"patentes/patente_nueva_100.jpg\")\n",
    "texto = pytesseract.image_to_string(im)\n",
    "Image.open(\"patentes/patente_nueva_100.jpg\")"
   ]
  },
  {
   "cell_type": "code",
   "execution_count": 23,
   "metadata": {},
   "outputs": [
    {
     "name": "stdout",
     "output_type": "stream",
     "text": [
      "AA 046 WZ\n"
     ]
    }
   ],
   "source": [
    "print(texto)"
   ]
  },
  {
   "cell_type": "code",
   "execution_count": 24,
   "metadata": {},
   "outputs": [
    {
     "data": {
      "text/html": [
       "<div>\n",
       "<style scoped>\n",
       "    .dataframe tbody tr th:only-of-type {\n",
       "        vertical-align: middle;\n",
       "    }\n",
       "\n",
       "    .dataframe tbody tr th {\n",
       "        vertical-align: top;\n",
       "    }\n",
       "\n",
       "    .dataframe thead th {\n",
       "        text-align: right;\n",
       "    }\n",
       "</style>\n",
       "<table border=\"1\" class=\"dataframe\">\n",
       "  <thead>\n",
       "    <tr style=\"text-align: right;\">\n",
       "      <th></th>\n",
       "      <th>Dominio</th>\n",
       "      <th>Localidad</th>\n",
       "      <th>Marca</th>\n",
       "      <th>Tipo</th>\n",
       "    </tr>\n",
       "  </thead>\n",
       "  <tbody>\n",
       "    <tr>\n",
       "      <th>100</th>\n",
       "      <td>AA 046 WZ</td>\n",
       "      <td>LOBOS</td>\n",
       "      <td>TOYOTA HILUX 4X2 D/C SRV PACK 2.8 TDI 6</td>\n",
       "      <td>Nueva</td>\n",
       "    </tr>\n",
       "  </tbody>\n",
       "</table>\n",
       "</div>"
      ],
      "text/plain": [
       "       Dominio Localidad                                    Marca   Tipo\n",
       "100  AA 046 WZ     LOBOS  TOYOTA HILUX 4X2 D/C SRV PACK 2.8 TDI 6  Nueva"
      ]
     },
     "execution_count": 24,
     "metadata": {},
     "output_type": "execute_result"
    }
   ],
   "source": [
    "df_informacion[df_informacion.Dominio == texto]"
   ]
  },
  {
   "cell_type": "code",
   "execution_count": 26,
   "metadata": {},
   "outputs": [
    {
     "name": "stdout",
     "output_type": "stream",
     "text": [
      "Imagenes de patentes generadas usando el DF: 28308\n"
     ]
    }
   ],
   "source": [
    "import glob\n",
    "Numero=len(glob.glob(\"patentes/*.jpg\"))\n",
    "print('Imagenes de patentes generadas usando el DF: ' + str(Numero))"
   ]
  },
  {
   "cell_type": "markdown",
   "metadata": {},
   "source": [
    "#### Elimine todas las imágenes que se generaron porque si no la carpeta iba a ser muy pesada. En la imagen que sigue pueden ver el total de patentes generadas y el peso de la carpeta."
   ]
  },
  {
   "cell_type": "code",
   "execution_count": 28,
   "metadata": {},
   "outputs": [
    {
     "data": {
      "image/png": "[encoded data removed]",
      "text/plain": [
       "<IPython.core.display.Image object>"
      ]
     },
     "metadata": {},
     "output_type": "display_data"
    }
   ],
   "source": [
    "display(Image(filename='imagenes_generadas.png'))"
   ]
  },
  {
   "cell_type": "code",
   "execution_count": null,
   "metadata": {},
   "outputs": [],
   "source": []
  }
 ],
 "metadata": {
  "kernelspec": {
   "display_name": "Python 3",
   "language": "python",
   "name": "python3"
  },
  "language_info": {
   "codemirror_mode": {
    "name": "ipython",
    "version": 3
   },
   "file_extension": ".py",
   "mimetype": "text/x-python",
   "name": "python",
   "nbconvert_exporter": "python",
   "pygments_lexer": "ipython3",
   "version": "3.7.3"
  }
 },
 "nbformat": 4,
 "nbformat_minor": 2
}
