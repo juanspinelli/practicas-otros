{
 "cells": [
  {
   "cell_type": "code",
   "execution_count": 1,
   "metadata": {},
   "outputs": [],
   "source": [
    "import pandas as pd\n",
    "import unicodedata\n",
    "import matplotlib.pyplot as plt\n",
    "import numpy as np\n",
    "import seaborn as sns\n",
    "%matplotlib inline"
   ]
  },
  {
   "cell_type": "code",
   "execution_count": 2,
   "metadata": {},
   "outputs": [],
   "source": [
    "data = pd.read_csv('wine.csv')"
   ]
  },
  {
   "cell_type": "code",
   "execution_count": 3,
   "metadata": {},
   "outputs": [],
   "source": [
    "data = data[data.country == 'Argentina']\n",
    "columnas = data.columns.tolist()\n",
    "columnas_innecesarias = [\"Unnamed: 0\", \"country\", \"description\", \"designation\", \"taster_name\", \"taster_twitter_handle\", \"region_2\"]\n",
    "subconjunto_lista_filtrada = [x for x in columnas if x not in columnas_innecesarias]\n",
    "data = data[subconjunto_lista_filtrada]"
   ]
  },
  {
   "cell_type": "code",
   "execution_count": 4,
   "metadata": {},
   "outputs": [],
   "source": [
    "data = data.drop_duplicates()"
   ]
  },
  {
   "cell_type": "code",
   "execution_count": 5,
   "metadata": {},
   "outputs": [],
   "source": [
    "data = data.reset_index()"
   ]
  },
  {
   "cell_type": "code",
   "execution_count": 6,
   "metadata": {},
   "outputs": [],
   "source": [
    "data['index'] = data.index"
   ]
  },
  {
   "cell_type": "code",
   "execution_count": 7,
   "metadata": {},
   "outputs": [],
   "source": [
    "data.region_1 = data.region_1.fillna(value= '')"
   ]
  },
  {
   "cell_type": "code",
   "execution_count": 8,
   "metadata": {},
   "outputs": [],
   "source": [
    "for i in range(0, len(data)):\n",
    "    if 0 <= data.loc[i, 'points'] <= 60:\n",
    "        data.loc[i,'categoria'] = 'Detractor'\n",
    "    elif 61 <= data.loc[i, 'points'] <= 80:\n",
    "        data.loc[i,'categoria'] = 'Neutro'\n",
    "    elif 81 <= data.loc[i, 'points'] <= 100:\n",
    "        data.loc[i,'categoria'] = 'Promotor'\n",
    "    else:\n",
    "        data.loc[i,'categoria'] = ''"
   ]
  },
  {
   "cell_type": "code",
   "execution_count": 9,
   "metadata": {},
   "outputs": [],
   "source": [
    "    for x in range (0, len(data.columns)):\n",
    "        if data.dtypes[x] == 'O':\n",
    "            data[data.columns[x]] = data[data.columns[x]].str.lower().str.strip()\n",
    "            data[data.columns[x]] = data[data.columns[x]].str.normalize('NFKD').str.encode('ascii', errors='ignore').str.decode('utf-8')"
   ]
  },
  {
   "cell_type": "code",
   "execution_count": 10,
   "metadata": {},
   "outputs": [
    {
     "data": {
      "text/plain": [
       "array(['other', 'mendoza province'], dtype=object)"
      ]
     },
     "execution_count": 10,
     "metadata": {},
     "output_type": "execute_result"
    }
   ],
   "source": [
    "data.province.unique()"
   ]
  },
  {
   "cell_type": "code",
   "execution_count": 11,
   "metadata": {},
   "outputs": [
    {
     "data": {
      "text/plain": [
       "array(['other', 'mendoza'], dtype=object)"
      ]
     },
     "execution_count": 11,
     "metadata": {},
     "output_type": "execute_result"
    }
   ],
   "source": [
    "data.province = data.province.str.replace('mendoza province', 'mendoza')\n",
    "data.province.unique()"
   ]
  },
  {
   "cell_type": "code",
   "execution_count": 12,
   "metadata": {},
   "outputs": [
    {
     "data": {
      "text/plain": [
       "array(['cafayate', 'mendoza', 'salta', 'lujan de cuyo', 'san juan', '',\n",
       "       'uco valley', 'perdriel', 'tupungato', 'valle de uco',\n",
       "       'calchaqui valley', 'vista flores', 'maipu', 'patagonia',\n",
       "       'alto valle del rio negro', 'la consulta', 'agrelo', 'neuquen',\n",
       "       'rio negro valley', 'la rioja', 'famatina valley', 'argentina',\n",
       "       'tulum valley', 'buenos aires', 'jujuy', 'san carlos',\n",
       "       'pedernal valley', 'zonda valley', 'medrano', 'altos de mendoza',\n",
       "       'san rafael', 'catamarca'], dtype=object)"
      ]
     },
     "execution_count": 12,
     "metadata": {},
     "output_type": "execute_result"
    }
   ],
   "source": [
    "data.region_1.unique()"
   ]
  },
  {
   "cell_type": "code",
   "execution_count": 13,
   "metadata": {},
   "outputs": [],
   "source": [
    "data.replace({'region_1' : { 'uco valley' : 'valle de uco', 'calchaqui valley' : 'valle calchaqui', \n",
    "                            'rio negro valley' : 'alto valle del rio negro', \n",
    "                            'famatina valley'  : 'valle de famatina', 'tulum valley'  : 'oasis del tulum',\n",
    "                            'pedernal valley'  : 'valle de pedernal', 'zonda valley'  : 'oasis de zonda' }}, inplace = True)"
   ]
  },
  {
   "cell_type": "code",
   "execution_count": 14,
   "metadata": {},
   "outputs": [],
   "source": [
    "lista_provincia = ['cordoba','mendoza','mendoza','mendoza','neuquen','mendoza','mendoza','mendoza','mendoza','mendoza','catamarca','san juan','mendoza','mendoza','mendoza','mendoza','mendoza']\n",
    "lista_vineria = ['bodega las canitas','haarth','terrazas de los andes','san huberto','familia schroeder','rutini','mendoza vineyards','aguijon de abeja','cave extreme','ruca malen','alto 3','finca las moras','casa de campo','battle axe','lost vineyards','staphyle','trapiche']"
   ]
  },
  {
   "cell_type": "code",
   "execution_count": 15,
   "metadata": {},
   "outputs": [],
   "source": [
    "for x in range (0, len(lista_provincia)):\n",
    "    for i in range(0, len(data)):\n",
    "        if data.winery[i] == lista_vineria[x]:\n",
    "            data.loc[i,'region_1'] = lista_provincia[x]"
   ]
  },
  {
   "cell_type": "code",
   "execution_count": 16,
   "metadata": {},
   "outputs": [],
   "source": [
    "for x in range (0, len(data)):\n",
    "    if data.province[x] == 'other':\n",
    "        data.loc[x,'province'] = data.region_1[x]"
   ]
  },
  {
   "cell_type": "code",
   "execution_count": 17,
   "metadata": {},
   "outputs": [],
   "source": [
    "for x in range(0, len(data)):\n",
    "    if data.region_1[x] == '':\n",
    "        data.loc[x,'region_1'] = data.loc[x,'province']"
   ]
  },
  {
   "cell_type": "code",
   "execution_count": 18,
   "metadata": {},
   "outputs": [],
   "source": [
    "data.drop('province', axis=1, inplace=True)"
   ]
  },
  {
   "cell_type": "code",
   "execution_count": 19,
   "metadata": {},
   "outputs": [],
   "source": [
    "mapeo = {\n",
    "    'cafayate' : 'salta',\n",
    "    'lujan de cuyo'\t: 'mendoza',\n",
    "    'valle de uco' : 'mendoza',\n",
    "    'perdriel' : 'mendoza',\n",
    "    'tupungato'\t: 'mendoza',\n",
    "    'valle calchaqui' : 'valle calchaqui',\n",
    "    'vista flores' : 'mendoza',\n",
    "    'maipu'\t: 'maipu',\n",
    "    'patagonia'\t: 'patagonia',\n",
    "    'alto valle del rio negro' : 'rio negro',\n",
    "    'la consulta' : 'mendoza',\n",
    "    'agrelo' : 'mendoza',\n",
    "    'valle de famatina'\t: 'la rioja',\n",
    "    'oasis del tulum' : 'san juan',\n",
    "    'san carlos' : 'salta',\n",
    "    'oasis de zonda' : 'san juan',\n",
    "    'medrano' : 'mendoza',\n",
    "    'valle de pedernal'\t: 'san juan',\n",
    "    'altos de mendoza' : 'mendoza',\n",
    "    'san rafael' : 'mendoza',\n",
    "    'mendoza' : 'mendoza',\n",
    "    'salta' : 'salta',\n",
    "    'san juan' : 'san juan',\n",
    "    'neuquen' : 'neuquen',\n",
    "    'la rioja' : 'la rioja',\n",
    "    'cordoba' : 'cordoba',\n",
    "    'jujuy' : 'jujuy',\n",
    "    'catamarca' : 'catamarca'\n",
    "}"
   ]
  },
  {
   "cell_type": "code",
   "execution_count": 20,
   "metadata": {},
   "outputs": [],
   "source": [
    "data['province'] = data['region_1'].map(mapeo)"
   ]
  },
  {
   "cell_type": "code",
   "execution_count": 21,
   "metadata": {},
   "outputs": [],
   "source": [
    "vineria_provincia = ['aniello','humberto canale','bodega chacra','bodega noemia de patagonia','bodega nqn','bodega patritti','denario','ruta 22','alpataco','bodega del fin del mundo','fabre montmayou','nemesio','restivo','schroeder estate','bodegas fabre','manos negras','southern edge','valle azul','nieto senetiner','infinitus','verum','aymara','bodega don bosco','pascual toso','luigi bosca','tercos','viamonte','coiron','palo alto','finca los olmos','zuccardi','el esteco','michel torino','colome','amalaya','inca','bodega tacuil']\n",
    "provincia_vineria = ['rio negro','rio negro','rio negro','rio negro','neuquen','neuquen','rio negro','mendoza','neuquen','neuquen','mendoza','neuquen','mendoza','neuquen','mendoza','mendoza','neuquen','mendoza','mendoza','rio negro','rio negro','mendoza','mendoza','mendoza','mendoza','mendoza','mendoza','mendoza','mendoza','mendoza','mendoza','salta','salta','salta','salta','salta','salta']"
   ]
  },
  {
   "cell_type": "code",
   "execution_count": 22,
   "metadata": {},
   "outputs": [],
   "source": [
    "for x in range (0, len(vineria_provincia)):\n",
    "    for i in range(0, len(data)):\n",
    "        if data.winery[i] == vineria_provincia[x]:\n",
    "            data.loc[i,'province'] = provincia_vineria[x]"
   ]
  },
  {
   "cell_type": "code",
   "execution_count": 23,
   "metadata": {},
   "outputs": [],
   "source": [
    "data.price = data.price.fillna(value=0)"
   ]
  },
  {
   "cell_type": "code",
   "execution_count": 24,
   "metadata": {},
   "outputs": [],
   "source": [
    "#data.replace({'region_1' : { 'uco valley' : 'valle de uco', 'calchaqui valley' : 'valle calchaqui', \n",
    "#                            'rio negro valley' : 'alto valle del rio negro', \n",
    "#                            'famatina valley'  : 'valle de famatina', 'tulum valley'  : 'oasis del tulum',\n",
    "#                            'pedernal valley'  : 'valle de pedernal', 'zonda valley'  : 'oasis de zonda' }}, inplace = True)"
   ]
  },
  {
   "cell_type": "code",
   "execution_count": 25,
   "metadata": {},
   "outputs": [],
   "source": [
    "for x in range(0, len(data)):\n",
    "    if data.price[x] == 0.0:\n",
    "        filtro = data[(data.variety == data.variety[x]) & \n",
    "                      (data.province == data.province[x]) & \n",
    "                      (data.region_1 == data.region_1[x]) &\n",
    "                      (data.winery == data.winery[x])]\n",
    "        data.loc[x,'price'] = filtro.price.median()"
   ]
  },
  {
   "cell_type": "code",
   "execution_count": 26,
   "metadata": {},
   "outputs": [],
   "source": [
    "for x in range(0, len(data)):\n",
    "    if data.price[x] == 0.0:\n",
    "        otro_filtro = data[(data.province == data.province[x]) & (data.variety == data.variety[x])]\n",
    "        data.loc[x,'price'] = otro_filtro.price.median()"
   ]
  },
  {
   "cell_type": "code",
   "execution_count": 27,
   "metadata": {},
   "outputs": [],
   "source": [
    "data.rename(columns={'index':'id',\n",
    "                    'points':'puntaje',\n",
    "                    'price':'precio_en_pesos',\n",
    "                    'region_1':'region',\n",
    "                    'title':'titulo',\n",
    "                    'variety':'variedad',\n",
    "                    'winery':'bodega',\n",
    "                    'province':'provincia'}, \n",
    "                     inplace=True)"
   ]
  },
  {
   "cell_type": "code",
   "execution_count": 28,
   "metadata": {},
   "outputs": [],
   "source": [
    "data.replace({'variedad' : {'malbec-cabernet sauvignon' : 'cabernet sauvignon malbec', \n",
    "                            'syrah malbec' : 'malbec syrah', \n",
    "                            'tempranillo malbec' : 'malbec tempranillo', \n",
    "                            'cabernet sauvignon-malbec' : 'cabernet sauvignon malbec',\n",
    "                            'malbec-cabernet franc' : 'cabernet franc-malbec', \n",
    "                            'malbec-cabernet'  : 'cabernet-malbec', \n",
    "                            'cabernet sauvignon-cabernet franc'  : 'cabernet franc-cabernet sauvignon'}}, inplace = True)"
   ]
  },
  {
   "cell_type": "code",
   "execution_count": 29,
   "metadata": {},
   "outputs": [],
   "source": [
    "data['media'] = data['provincia'].apply(lambda x: data.precio_en_pesos[data.provincia == x].mean())"
   ]
  },
  {
   "cell_type": "code",
   "execution_count": 30,
   "metadata": {},
   "outputs": [],
   "source": [
    "data['stda'] = data['provincia'].apply(lambda x: data.precio_en_pesos[data.provincia == x].std())"
   ]
  },
  {
   "cell_type": "code",
   "execution_count": 31,
   "metadata": {},
   "outputs": [],
   "source": [
    "data.stda = data.stda.fillna(value=0)"
   ]
  },
  {
   "cell_type": "code",
   "execution_count": 32,
   "metadata": {},
   "outputs": [],
   "source": [
    "data['score'] = data['id'].apply(lambda x: np.abs((data.loc[x, 'precio_en_pesos'] - data.loc[x, 'media']) / data.loc[x, 'stda']))"
   ]
  },
  {
   "cell_type": "code",
   "execution_count": 33,
   "metadata": {},
   "outputs": [],
   "source": [
    "data[\"creacion\"] = data.titulo.str.extract(r\"\\b(19\\d\\d|20[01]\\d)\\b\", expand=False)\n",
    "data.creacion = data.creacion.fillna(value=0)\n",
    "data.creacion = data.creacion.astype(int)"
   ]
  },
  {
   "cell_type": "code",
   "execution_count": 34,
   "metadata": {},
   "outputs": [
    {
     "data": {
      "text/plain": [
       "id                 0\n",
       "puntaje            0\n",
       "precio_en_pesos    0\n",
       "region             0\n",
       "titulo             0\n",
       "variedad           0\n",
       "bodega             0\n",
       "categoria          0\n",
       "provincia          0\n",
       "media              0\n",
       "stda               0\n",
       "score              3\n",
       "creacion           0\n",
       "dtype: int64"
      ]
     },
     "execution_count": 34,
     "metadata": {},
     "output_type": "execute_result"
    }
   ],
   "source": [
    "data.isnull().sum()"
   ]
  },
  {
   "cell_type": "code",
   "execution_count": 35,
   "metadata": {},
   "outputs": [
    {
     "data": {
      "text/html": [
       "<div>\n",
       "<style scoped>\n",
       "    .dataframe tbody tr th:only-of-type {\n",
       "        vertical-align: middle;\n",
       "    }\n",
       "\n",
       "    .dataframe tbody tr th {\n",
       "        vertical-align: top;\n",
       "    }\n",
       "\n",
       "    .dataframe thead th {\n",
       "        text-align: right;\n",
       "    }\n",
       "</style>\n",
       "<table border=\"1\" class=\"dataframe\">\n",
       "  <thead>\n",
       "    <tr style=\"text-align: right;\">\n",
       "      <th></th>\n",
       "      <th>id</th>\n",
       "      <th>puntaje</th>\n",
       "      <th>precio_en_pesos</th>\n",
       "      <th>region</th>\n",
       "      <th>titulo</th>\n",
       "      <th>variedad</th>\n",
       "      <th>bodega</th>\n",
       "      <th>categoria</th>\n",
       "      <th>provincia</th>\n",
       "      <th>media</th>\n",
       "      <th>stda</th>\n",
       "      <th>score</th>\n",
       "      <th>creacion</th>\n",
       "    </tr>\n",
       "  </thead>\n",
       "  <tbody>\n",
       "    <tr>\n",
       "      <th>0</th>\n",
       "      <td>0</td>\n",
       "      <td>97</td>\n",
       "      <td>120.0</td>\n",
       "      <td>mendoza</td>\n",
       "      <td>bodega catena zapata 2006 nicasia vineyard mal...</td>\n",
       "      <td>malbec</td>\n",
       "      <td>bodega catena zapata</td>\n",
       "      <td>promotor</td>\n",
       "      <td>mendoza</td>\n",
       "      <td>24.838952</td>\n",
       "      <td>24.125768</td>\n",
       "      <td>3.944374</td>\n",
       "      <td>2006</td>\n",
       "    </tr>\n",
       "    <tr>\n",
       "      <th>7</th>\n",
       "      <td>7</td>\n",
       "      <td>96</td>\n",
       "      <td>50.0</td>\n",
       "      <td>tupungato</td>\n",
       "      <td>riglos 2009 gran corte las divas vineyard red ...</td>\n",
       "      <td>bordeaux-style red blend</td>\n",
       "      <td>riglos</td>\n",
       "      <td>promotor</td>\n",
       "      <td>mendoza</td>\n",
       "      <td>24.838952</td>\n",
       "      <td>24.125768</td>\n",
       "      <td>1.042912</td>\n",
       "      <td>2009</td>\n",
       "    </tr>\n",
       "    <tr>\n",
       "      <th>4</th>\n",
       "      <td>4</td>\n",
       "      <td>95</td>\n",
       "      <td>50.0</td>\n",
       "      <td>mendoza</td>\n",
       "      <td>vistalba 2007 corte a red (mendoza)</td>\n",
       "      <td>red blend</td>\n",
       "      <td>vistalba</td>\n",
       "      <td>promotor</td>\n",
       "      <td>mendoza</td>\n",
       "      <td>24.838952</td>\n",
       "      <td>24.125768</td>\n",
       "      <td>1.042912</td>\n",
       "      <td>2007</td>\n",
       "    </tr>\n",
       "    <tr>\n",
       "      <th>25</th>\n",
       "      <td>25</td>\n",
       "      <td>95</td>\n",
       "      <td>74.0</td>\n",
       "      <td>mendoza</td>\n",
       "      <td>pascual toso 2014 finca pedregal single vineya...</td>\n",
       "      <td>cabernet sauvignon malbec</td>\n",
       "      <td>pascual toso</td>\n",
       "      <td>promotor</td>\n",
       "      <td>mendoza</td>\n",
       "      <td>24.838952</td>\n",
       "      <td>24.125768</td>\n",
       "      <td>2.037699</td>\n",
       "      <td>2014</td>\n",
       "    </tr>\n",
       "    <tr>\n",
       "      <th>47</th>\n",
       "      <td>47</td>\n",
       "      <td>94</td>\n",
       "      <td>90.0</td>\n",
       "      <td>mendoza</td>\n",
       "      <td>el enemigo 2013 gran enemigo gualtallary singl...</td>\n",
       "      <td>cabernet franc-cabernet sauvignon</td>\n",
       "      <td>el enemigo</td>\n",
       "      <td>promotor</td>\n",
       "      <td>mendoza</td>\n",
       "      <td>24.838952</td>\n",
       "      <td>24.125768</td>\n",
       "      <td>2.700890</td>\n",
       "      <td>2013</td>\n",
       "    </tr>\n",
       "    <tr>\n",
       "      <th>5</th>\n",
       "      <td>5</td>\n",
       "      <td>94</td>\n",
       "      <td>50.0</td>\n",
       "      <td>mendoza</td>\n",
       "      <td>pascual toso 2014 alta barrancas vineyards cab...</td>\n",
       "      <td>cabernet sauvignon</td>\n",
       "      <td>pascual toso</td>\n",
       "      <td>promotor</td>\n",
       "      <td>mendoza</td>\n",
       "      <td>24.838952</td>\n",
       "      <td>24.125768</td>\n",
       "      <td>1.042912</td>\n",
       "      <td>2014</td>\n",
       "    </tr>\n",
       "    <tr>\n",
       "      <th>29</th>\n",
       "      <td>29</td>\n",
       "      <td>94</td>\n",
       "      <td>75.0</td>\n",
       "      <td>mendoza</td>\n",
       "      <td>trapiche 2011 iscay syrah-viognier (mendoza)</td>\n",
       "      <td>syrah-viognier</td>\n",
       "      <td>trapiche</td>\n",
       "      <td>promotor</td>\n",
       "      <td>mendoza</td>\n",
       "      <td>24.838952</td>\n",
       "      <td>24.125768</td>\n",
       "      <td>2.079148</td>\n",
       "      <td>2011</td>\n",
       "    </tr>\n",
       "    <tr>\n",
       "      <th>10</th>\n",
       "      <td>10</td>\n",
       "      <td>94</td>\n",
       "      <td>120.0</td>\n",
       "      <td>mendoza</td>\n",
       "      <td>tapiz 2012 las notas de jean claude merlot (me...</td>\n",
       "      <td>merlot</td>\n",
       "      <td>tapiz</td>\n",
       "      <td>promotor</td>\n",
       "      <td>mendoza</td>\n",
       "      <td>24.838952</td>\n",
       "      <td>24.125768</td>\n",
       "      <td>3.944374</td>\n",
       "      <td>2012</td>\n",
       "    </tr>\n",
       "    <tr>\n",
       "      <th>23</th>\n",
       "      <td>23</td>\n",
       "      <td>93</td>\n",
       "      <td>38.0</td>\n",
       "      <td>mendoza</td>\n",
       "      <td>luigi bosca 2014 gala 2 red (mendoza)</td>\n",
       "      <td>cabernet blend</td>\n",
       "      <td>luigi bosca</td>\n",
       "      <td>promotor</td>\n",
       "      <td>mendoza</td>\n",
       "      <td>24.838952</td>\n",
       "      <td>24.125768</td>\n",
       "      <td>0.545518</td>\n",
       "      <td>2014</td>\n",
       "    </tr>\n",
       "    <tr>\n",
       "      <th>39</th>\n",
       "      <td>39</td>\n",
       "      <td>93</td>\n",
       "      <td>165.0</td>\n",
       "      <td>lujan de cuyo</td>\n",
       "      <td>luigi bosca 2011 icono malbec-cabernet (lujan ...</td>\n",
       "      <td>cabernet-malbec</td>\n",
       "      <td>luigi bosca</td>\n",
       "      <td>promotor</td>\n",
       "      <td>mendoza</td>\n",
       "      <td>24.838952</td>\n",
       "      <td>24.125768</td>\n",
       "      <td>5.809599</td>\n",
       "      <td>2011</td>\n",
       "    </tr>\n",
       "  </tbody>\n",
       "</table>\n",
       "</div>"
      ],
      "text/plain": [
       "    id puntaje  precio_en_pesos         region  \\\n",
       "0    0      97            120.0        mendoza   \n",
       "7    7      96             50.0      tupungato   \n",
       "4    4      95             50.0        mendoza   \n",
       "25  25      95             74.0        mendoza   \n",
       "47  47      94             90.0        mendoza   \n",
       "5    5      94             50.0        mendoza   \n",
       "29  29      94             75.0        mendoza   \n",
       "10  10      94            120.0        mendoza   \n",
       "23  23      93             38.0        mendoza   \n",
       "39  39      93            165.0  lujan de cuyo   \n",
       "\n",
       "                                               titulo  \\\n",
       "0   bodega catena zapata 2006 nicasia vineyard mal...   \n",
       "7   riglos 2009 gran corte las divas vineyard red ...   \n",
       "4                 vistalba 2007 corte a red (mendoza)   \n",
       "25  pascual toso 2014 finca pedregal single vineya...   \n",
       "47  el enemigo 2013 gran enemigo gualtallary singl...   \n",
       "5   pascual toso 2014 alta barrancas vineyards cab...   \n",
       "29       trapiche 2011 iscay syrah-viognier (mendoza)   \n",
       "10  tapiz 2012 las notas de jean claude merlot (me...   \n",
       "23              luigi bosca 2014 gala 2 red (mendoza)   \n",
       "39  luigi bosca 2011 icono malbec-cabernet (lujan ...   \n",
       "\n",
       "                             variedad                bodega categoria  \\\n",
       "0                              malbec  bodega catena zapata  promotor   \n",
       "7            bordeaux-style red blend                riglos  promotor   \n",
       "4                           red blend              vistalba  promotor   \n",
       "25          cabernet sauvignon malbec          pascual toso  promotor   \n",
       "47  cabernet franc-cabernet sauvignon            el enemigo  promotor   \n",
       "5                  cabernet sauvignon          pascual toso  promotor   \n",
       "29                     syrah-viognier              trapiche  promotor   \n",
       "10                             merlot                 tapiz  promotor   \n",
       "23                     cabernet blend           luigi bosca  promotor   \n",
       "39                    cabernet-malbec           luigi bosca  promotor   \n",
       "\n",
       "   provincia      media       stda     score creacion  \n",
       "0    mendoza  24.838952  24.125768  3.944374     2006  \n",
       "7    mendoza  24.838952  24.125768  1.042912     2009  \n",
       "4    mendoza  24.838952  24.125768  1.042912     2007  \n",
       "25   mendoza  24.838952  24.125768  2.037699     2014  \n",
       "47   mendoza  24.838952  24.125768  2.700890     2013  \n",
       "5    mendoza  24.838952  24.125768  1.042912     2014  \n",
       "29   mendoza  24.838952  24.125768  2.079148     2011  \n",
       "10   mendoza  24.838952  24.125768  3.944374     2012  \n",
       "23   mendoza  24.838952  24.125768  0.545518     2014  \n",
       "39   mendoza  24.838952  24.125768  5.809599     2011  "
      ]
     },
     "execution_count": 35,
     "metadata": {},
     "output_type": "execute_result"
    }
   ],
   "source": [
    "variedades = data.variedad.unique().tolist()\n",
    "\n",
    "dfPuntajes = pd.DataFrame(columns = data.columns)\n",
    "\n",
    "for x in variedades:\n",
    "    filtroUno = data[data.variedad == x]\n",
    "    filtroDos = filtroUno[filtroUno.puntaje == filtroUno.puntaje.max()]\n",
    "    filtroTres = filtroDos[filtroDos.precio_en_pesos == filtroDos.precio_en_pesos.max()]\n",
    "    filtroCuatro = filtroTres[filtroTres.creacion == filtroTres.creacion.min()]\n",
    "    dfPuntajes = dfPuntajes.append(filtroCuatro, ignore_index=True)\n",
    "    \n",
    "dfPuntajes['id'] = dfPuntajes.index\n",
    "\n",
    "dfPuntajes.sort_values('puntaje', ascending=[0]).head(10)"
   ]
  },
  {
   "cell_type": "code",
   "execution_count": 36,
   "metadata": {},
   "outputs": [
    {
     "data": {
      "text/html": [
       "<div>\n",
       "<style scoped>\n",
       "    .dataframe tbody tr th:only-of-type {\n",
       "        vertical-align: middle;\n",
       "    }\n",
       "\n",
       "    .dataframe tbody tr th {\n",
       "        vertical-align: top;\n",
       "    }\n",
       "\n",
       "    .dataframe thead th {\n",
       "        text-align: right;\n",
       "    }\n",
       "</style>\n",
       "<table border=\"1\" class=\"dataframe\">\n",
       "  <thead>\n",
       "    <tr style=\"text-align: right;\">\n",
       "      <th></th>\n",
       "      <th>id</th>\n",
       "      <th>puntaje</th>\n",
       "      <th>precio_en_pesos</th>\n",
       "      <th>region</th>\n",
       "      <th>titulo</th>\n",
       "      <th>variedad</th>\n",
       "      <th>bodega</th>\n",
       "      <th>categoria</th>\n",
       "      <th>provincia</th>\n",
       "      <th>media</th>\n",
       "      <th>stda</th>\n",
       "      <th>score</th>\n",
       "      <th>creacion</th>\n",
       "    </tr>\n",
       "  </thead>\n",
       "  <tbody>\n",
       "    <tr>\n",
       "      <th>0</th>\n",
       "      <td>0</td>\n",
       "      <td>97</td>\n",
       "      <td>120.0</td>\n",
       "      <td>mendoza</td>\n",
       "      <td>bodega catena zapata 2006 nicasia vineyard mal...</td>\n",
       "      <td>malbec</td>\n",
       "      <td>bodega catena zapata</td>\n",
       "      <td>promotor</td>\n",
       "      <td>mendoza</td>\n",
       "      <td>24.838952</td>\n",
       "      <td>24.125768</td>\n",
       "      <td>3.944374</td>\n",
       "      <td>2006</td>\n",
       "    </tr>\n",
       "    <tr>\n",
       "      <th>7</th>\n",
       "      <td>7</td>\n",
       "      <td>96</td>\n",
       "      <td>50.0</td>\n",
       "      <td>tupungato</td>\n",
       "      <td>riglos 2009 gran corte las divas vineyard red ...</td>\n",
       "      <td>bordeaux-style red blend</td>\n",
       "      <td>riglos</td>\n",
       "      <td>promotor</td>\n",
       "      <td>mendoza</td>\n",
       "      <td>24.838952</td>\n",
       "      <td>24.125768</td>\n",
       "      <td>1.042912</td>\n",
       "      <td>2009</td>\n",
       "    </tr>\n",
       "    <tr>\n",
       "      <th>4</th>\n",
       "      <td>4</td>\n",
       "      <td>95</td>\n",
       "      <td>50.0</td>\n",
       "      <td>mendoza</td>\n",
       "      <td>vistalba 2007 corte a red (mendoza)</td>\n",
       "      <td>red blend</td>\n",
       "      <td>vistalba</td>\n",
       "      <td>promotor</td>\n",
       "      <td>mendoza</td>\n",
       "      <td>24.838952</td>\n",
       "      <td>24.125768</td>\n",
       "      <td>1.042912</td>\n",
       "      <td>2007</td>\n",
       "    </tr>\n",
       "    <tr>\n",
       "      <th>25</th>\n",
       "      <td>25</td>\n",
       "      <td>95</td>\n",
       "      <td>74.0</td>\n",
       "      <td>mendoza</td>\n",
       "      <td>pascual toso 2014 finca pedregal single vineya...</td>\n",
       "      <td>cabernet sauvignon malbec</td>\n",
       "      <td>pascual toso</td>\n",
       "      <td>promotor</td>\n",
       "      <td>mendoza</td>\n",
       "      <td>24.838952</td>\n",
       "      <td>24.125768</td>\n",
       "      <td>2.037699</td>\n",
       "      <td>2014</td>\n",
       "    </tr>\n",
       "    <tr>\n",
       "      <th>47</th>\n",
       "      <td>47</td>\n",
       "      <td>94</td>\n",
       "      <td>90.0</td>\n",
       "      <td>mendoza</td>\n",
       "      <td>el enemigo 2013 gran enemigo gualtallary singl...</td>\n",
       "      <td>cabernet franc-cabernet sauvignon</td>\n",
       "      <td>el enemigo</td>\n",
       "      <td>promotor</td>\n",
       "      <td>mendoza</td>\n",
       "      <td>24.838952</td>\n",
       "      <td>24.125768</td>\n",
       "      <td>2.700890</td>\n",
       "      <td>2013</td>\n",
       "    </tr>\n",
       "    <tr>\n",
       "      <th>5</th>\n",
       "      <td>5</td>\n",
       "      <td>94</td>\n",
       "      <td>50.0</td>\n",
       "      <td>mendoza</td>\n",
       "      <td>pascual toso 2014 alta barrancas vineyards cab...</td>\n",
       "      <td>cabernet sauvignon</td>\n",
       "      <td>pascual toso</td>\n",
       "      <td>promotor</td>\n",
       "      <td>mendoza</td>\n",
       "      <td>24.838952</td>\n",
       "      <td>24.125768</td>\n",
       "      <td>1.042912</td>\n",
       "      <td>2014</td>\n",
       "    </tr>\n",
       "    <tr>\n",
       "      <th>29</th>\n",
       "      <td>29</td>\n",
       "      <td>94</td>\n",
       "      <td>75.0</td>\n",
       "      <td>mendoza</td>\n",
       "      <td>trapiche 2011 iscay syrah-viognier (mendoza)</td>\n",
       "      <td>syrah-viognier</td>\n",
       "      <td>trapiche</td>\n",
       "      <td>promotor</td>\n",
       "      <td>mendoza</td>\n",
       "      <td>24.838952</td>\n",
       "      <td>24.125768</td>\n",
       "      <td>2.079148</td>\n",
       "      <td>2011</td>\n",
       "    </tr>\n",
       "    <tr>\n",
       "      <th>10</th>\n",
       "      <td>10</td>\n",
       "      <td>94</td>\n",
       "      <td>120.0</td>\n",
       "      <td>mendoza</td>\n",
       "      <td>tapiz 2012 las notas de jean claude merlot (me...</td>\n",
       "      <td>merlot</td>\n",
       "      <td>tapiz</td>\n",
       "      <td>promotor</td>\n",
       "      <td>mendoza</td>\n",
       "      <td>24.838952</td>\n",
       "      <td>24.125768</td>\n",
       "      <td>3.944374</td>\n",
       "      <td>2012</td>\n",
       "    </tr>\n",
       "    <tr>\n",
       "      <th>23</th>\n",
       "      <td>23</td>\n",
       "      <td>93</td>\n",
       "      <td>38.0</td>\n",
       "      <td>mendoza</td>\n",
       "      <td>luigi bosca 2014 gala 2 red (mendoza)</td>\n",
       "      <td>cabernet blend</td>\n",
       "      <td>luigi bosca</td>\n",
       "      <td>promotor</td>\n",
       "      <td>mendoza</td>\n",
       "      <td>24.838952</td>\n",
       "      <td>24.125768</td>\n",
       "      <td>0.545518</td>\n",
       "      <td>2014</td>\n",
       "    </tr>\n",
       "    <tr>\n",
       "      <th>39</th>\n",
       "      <td>39</td>\n",
       "      <td>93</td>\n",
       "      <td>165.0</td>\n",
       "      <td>lujan de cuyo</td>\n",
       "      <td>luigi bosca 2011 icono malbec-cabernet (lujan ...</td>\n",
       "      <td>cabernet-malbec</td>\n",
       "      <td>luigi bosca</td>\n",
       "      <td>promotor</td>\n",
       "      <td>mendoza</td>\n",
       "      <td>24.838952</td>\n",
       "      <td>24.125768</td>\n",
       "      <td>5.809599</td>\n",
       "      <td>2011</td>\n",
       "    </tr>\n",
       "  </tbody>\n",
       "</table>\n",
       "</div>"
      ],
      "text/plain": [
       "    id puntaje  precio_en_pesos         region  \\\n",
       "0    0      97            120.0        mendoza   \n",
       "7    7      96             50.0      tupungato   \n",
       "4    4      95             50.0        mendoza   \n",
       "25  25      95             74.0        mendoza   \n",
       "47  47      94             90.0        mendoza   \n",
       "5    5      94             50.0        mendoza   \n",
       "29  29      94             75.0        mendoza   \n",
       "10  10      94            120.0        mendoza   \n",
       "23  23      93             38.0        mendoza   \n",
       "39  39      93            165.0  lujan de cuyo   \n",
       "\n",
       "                                               titulo  \\\n",
       "0   bodega catena zapata 2006 nicasia vineyard mal...   \n",
       "7   riglos 2009 gran corte las divas vineyard red ...   \n",
       "4                 vistalba 2007 corte a red (mendoza)   \n",
       "25  pascual toso 2014 finca pedregal single vineya...   \n",
       "47  el enemigo 2013 gran enemigo gualtallary singl...   \n",
       "5   pascual toso 2014 alta barrancas vineyards cab...   \n",
       "29       trapiche 2011 iscay syrah-viognier (mendoza)   \n",
       "10  tapiz 2012 las notas de jean claude merlot (me...   \n",
       "23              luigi bosca 2014 gala 2 red (mendoza)   \n",
       "39  luigi bosca 2011 icono malbec-cabernet (lujan ...   \n",
       "\n",
       "                             variedad                bodega categoria  \\\n",
       "0                              malbec  bodega catena zapata  promotor   \n",
       "7            bordeaux-style red blend                riglos  promotor   \n",
       "4                           red blend              vistalba  promotor   \n",
       "25          cabernet sauvignon malbec          pascual toso  promotor   \n",
       "47  cabernet franc-cabernet sauvignon            el enemigo  promotor   \n",
       "5                  cabernet sauvignon          pascual toso  promotor   \n",
       "29                     syrah-viognier              trapiche  promotor   \n",
       "10                             merlot                 tapiz  promotor   \n",
       "23                     cabernet blend           luigi bosca  promotor   \n",
       "39                    cabernet-malbec           luigi bosca  promotor   \n",
       "\n",
       "   provincia      media       stda     score creacion  \n",
       "0    mendoza  24.838952  24.125768  3.944374     2006  \n",
       "7    mendoza  24.838952  24.125768  1.042912     2009  \n",
       "4    mendoza  24.838952  24.125768  1.042912     2007  \n",
       "25   mendoza  24.838952  24.125768  2.037699     2014  \n",
       "47   mendoza  24.838952  24.125768  2.700890     2013  \n",
       "5    mendoza  24.838952  24.125768  1.042912     2014  \n",
       "29   mendoza  24.838952  24.125768  2.079148     2011  \n",
       "10   mendoza  24.838952  24.125768  3.944374     2012  \n",
       "23   mendoza  24.838952  24.125768  0.545518     2014  \n",
       "39   mendoza  24.838952  24.125768  5.809599     2011  "
      ]
     },
     "execution_count": 36,
     "metadata": {},
     "output_type": "execute_result"
    }
   ],
   "source": [
    "dfPuntajes.sort_values('puntaje', ascending=[0]).head(10)"
   ]
  }
 ],
 "metadata": {
  "kernelspec": {
   "display_name": "Python 3",
   "language": "python",
   "name": "python3"
  },
  "language_info": {
   "codemirror_mode": {
    "name": "ipython",
    "version": 3
   },
   "file_extension": ".py",
   "mimetype": "text/x-python",
   "name": "python",
   "nbconvert_exporter": "python",
   "pygments_lexer": "ipython3",
   "version": "3.7.3"
  }
 },
 "nbformat": 4,
 "nbformat_minor": 2
}
