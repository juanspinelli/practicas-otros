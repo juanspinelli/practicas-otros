{
 "cells": [
  {
   "cell_type": "markdown",
   "metadata": {},
   "source": [
    "## Duración 00:20:01"
   ]
  },
  {
   "cell_type": "markdown",
   "metadata": {},
   "source": [
    "<a href=\"https://www.kaggle.com/jordangoblet/atp-tour-20002016\" target=\"_blank\" style=\"font-weight: bold; text-decoration: none; color: #01579b;\">Click para descargar la base de datos -> ATP Men's Tour -> Results of the ATP tour competitions since 2000</a>"
   ]
  },
  {
   "cell_type": "code",
   "execution_count": 1,
   "metadata": {},
   "outputs": [],
   "source": [
    "import pandas as pd"
   ]
  },
  {
   "cell_type": "code",
   "execution_count": 2,
   "metadata": {},
   "outputs": [],
   "source": [
    "import numpy as np"
   ]
  },
  {
   "cell_type": "code",
   "execution_count": 3,
   "metadata": {},
   "outputs": [],
   "source": [
    "import chardet"
   ]
  },
  {
   "cell_type": "code",
   "execution_count": 4,
   "metadata": {},
   "outputs": [],
   "source": [
    "with open('data/atp-tour/data.csv', 'rb') as f:\n",
    "    result = chardet.detect(f.read())"
   ]
  },
  {
   "cell_type": "code",
   "execution_count": 5,
   "metadata": {},
   "outputs": [
    {
     "data": {
      "text/plain": [
       "'Windows-1252'"
      ]
     },
     "execution_count": 5,
     "metadata": {},
     "output_type": "execute_result"
    }
   ],
   "source": [
    "result['encoding']"
   ]
  },
  {
   "cell_type": "code",
   "execution_count": 6,
   "metadata": {},
   "outputs": [],
   "source": [
    "datos = pd.read_csv('data/atp-tour/data.csv', encoding=result['encoding'], low_memory=False)"
   ]
  },
  {
   "cell_type": "code",
   "execution_count": 7,
   "metadata": {},
   "outputs": [
    {
     "name": "stdout",
     "output_type": "stream",
     "text": [
      "<class 'pandas.core.frame.DataFrame'>\n",
      "RangeIndex: 46652 entries, 0 to 46651\n",
      "Data columns (total 54 columns):\n",
      "ATP           46652 non-null int64\n",
      "Location      46652 non-null object\n",
      "Tournament    46652 non-null object\n",
      "Date          46652 non-null object\n",
      "Series        46652 non-null object\n",
      "Court         46652 non-null object\n",
      "Surface       46652 non-null object\n",
      "Round         46652 non-null object\n",
      "Best of       46652 non-null int64\n",
      "Winner        46652 non-null object\n",
      "Loser         46652 non-null object\n",
      "WRank         46637 non-null object\n",
      "LRank         46581 non-null object\n",
      "W1            46423 non-null float64\n",
      "L1            46423 non-null float64\n",
      "W2            45962 non-null float64\n",
      "L2            45963 non-null float64\n",
      "W3            21365 non-null float64\n",
      "L3            21365 non-null float64\n",
      "W4            4226 non-null float64\n",
      "L4            4226 non-null float64\n",
      "W5            1617 non-null float64\n",
      "L5            1617 non-null float64\n",
      "Wsets         46462 non-null float64\n",
      "Lsets         46462 non-null float64\n",
      "Comment       46652 non-null object\n",
      "CBW           17507 non-null float64\n",
      "CBL           17507 non-null float64\n",
      "GBW           5055 non-null float64\n",
      "GBL           5055 non-null float64\n",
      "IWW           13358 non-null float64\n",
      "IWL           13358 non-null float64\n",
      "SBW           5424 non-null float64\n",
      "SBL           5424 non-null float64\n",
      "B365W         38019 non-null float64\n",
      "B365L         38042 non-null float64\n",
      "B&WW          1097 non-null float64\n",
      "B&WL          1097 non-null float64\n",
      "EXW           33799 non-null float64\n",
      "EXL           33804 non-null float64\n",
      "PSW           31729 non-null float64\n",
      "PSL           31729 non-null float64\n",
      "WPts          30448 non-null float64\n",
      "LPts          30396 non-null float64\n",
      "UBW           10672 non-null float64\n",
      "UBL           10672 non-null float64\n",
      "LBW           23230 non-null float64\n",
      "LBL           23239 non-null float64\n",
      "SJW           15572 non-null float64\n",
      "SJL           15579 non-null float64\n",
      "MaxW          17104 non-null float64\n",
      "MaxL          17104 non-null float64\n",
      "AvgW          17104 non-null float64\n",
      "AvgL          17104 non-null float64\n",
      "dtypes: float64(40), int64(2), object(12)\n",
      "memory usage: 17.1+ MB\n",
      "None\n"
     ]
    }
   ],
   "source": [
    "print(datos.info())"
   ]
  },
  {
   "cell_type": "code",
   "execution_count": 8,
   "metadata": {},
   "outputs": [
    {
     "name": "stdout",
     "output_type": "stream",
     "text": [
      "   ATP  Location                          Tournament       Date  \\\n",
      "0    1  Adelaide  Australian Hardcourt Championships  3/01/2000   \n",
      "1    1  Adelaide  Australian Hardcourt Championships  3/01/2000   \n",
      "2    1  Adelaide  Australian Hardcourt Championships  3/01/2000   \n",
      "3    1  Adelaide  Australian Hardcourt Championships  3/01/2000   \n",
      "4    1  Adelaide  Australian Hardcourt Championships  3/01/2000   \n",
      "\n",
      "          Series    Court Surface      Round  Best of       Winner  ...  UBW  \\\n",
      "0  International  Outdoor    Hard  1st Round        3   Dosedel S.  ...  NaN   \n",
      "1  International  Outdoor    Hard  1st Round        3   Enqvist T.  ...  NaN   \n",
      "2  International  Outdoor    Hard  1st Round        3    Escude N.  ...  NaN   \n",
      "3  International  Outdoor    Hard  1st Round        3   Federer R.  ...  NaN   \n",
      "4  International  Outdoor    Hard  1st Round        3  Fromberg R.  ...  NaN   \n",
      "\n",
      "  UBL LBW  LBL  SJW  SJL  MaxW  MaxL  AvgW  AvgL  \n",
      "0 NaN NaN  NaN  NaN  NaN   NaN   NaN   NaN   NaN  \n",
      "1 NaN NaN  NaN  NaN  NaN   NaN   NaN   NaN   NaN  \n",
      "2 NaN NaN  NaN  NaN  NaN   NaN   NaN   NaN   NaN  \n",
      "3 NaN NaN  NaN  NaN  NaN   NaN   NaN   NaN   NaN  \n",
      "4 NaN NaN  NaN  NaN  NaN   NaN   NaN   NaN   NaN  \n",
      "\n",
      "[5 rows x 54 columns]\n"
     ]
    }
   ],
   "source": [
    "print(datos.head())"
   ]
  },
  {
   "cell_type": "code",
   "execution_count": 9,
   "metadata": {},
   "outputs": [
    {
     "name": "stdout",
     "output_type": "stream",
     "text": [
      "       ATP        Location                          Tournament        Date  \\\n",
      "0        1        Adelaide  Australian Hardcourt Championships   3/01/2000   \n",
      "1        1        Adelaide  Australian Hardcourt Championships   3/01/2000   \n",
      "2        1        Adelaide  Australian Hardcourt Championships   3/01/2000   \n",
      "3        1        Adelaide  Australian Hardcourt Championships   3/01/2000   \n",
      "4        1        Adelaide  Australian Hardcourt Championships   3/01/2000   \n",
      "5        1        Adelaide  Australian Hardcourt Championships   3/01/2000   \n",
      "6        1        Adelaide  Australian Hardcourt Championships   3/01/2000   \n",
      "7        1        Adelaide  Australian Hardcourt Championships   3/01/2000   \n",
      "8        1        Adelaide  Australian Hardcourt Championships   3/01/2000   \n",
      "9        1        Adelaide  Australian Hardcourt Championships   3/01/2000   \n",
      "10       1        Adelaide  Australian Hardcourt Championships   3/01/2000   \n",
      "11       1        Adelaide  Australian Hardcourt Championships   3/01/2000   \n",
      "12       1        Adelaide  Australian Hardcourt Championships   3/01/2000   \n",
      "13       1        Adelaide  Australian Hardcourt Championships   3/01/2000   \n",
      "14       1        Adelaide  Australian Hardcourt Championships   3/01/2000   \n",
      "15       1        Adelaide  Australian Hardcourt Championships   3/01/2000   \n",
      "16       1        Adelaide  Australian Hardcourt Championships   3/01/2000   \n",
      "17       1        Adelaide  Australian Hardcourt Championships   3/01/2000   \n",
      "18       1        Adelaide  Australian Hardcourt Championships   3/01/2000   \n",
      "19       1        Adelaide  Australian Hardcourt Championships   3/01/2000   \n",
      "20       1        Adelaide  Australian Hardcourt Championships   3/01/2000   \n",
      "21       1        Adelaide  Australian Hardcourt Championships   3/01/2000   \n",
      "22       1        Adelaide  Australian Hardcourt Championships   3/01/2000   \n",
      "23       1        Adelaide  Australian Hardcourt Championships   3/01/2000   \n",
      "24       1        Adelaide  Australian Hardcourt Championships   3/01/2000   \n",
      "25       1        Adelaide  Australian Hardcourt Championships   3/01/2000   \n",
      "26       1        Adelaide  Australian Hardcourt Championships   3/01/2000   \n",
      "27       1        Adelaide  Australian Hardcourt Championships   3/01/2000   \n",
      "28       1        Adelaide  Australian Hardcourt Championships   3/01/2000   \n",
      "29       1        Adelaide  Australian Hardcourt Championships   3/01/2000   \n",
      "...    ...             ...                                 ...         ...   \n",
      "46622   53            Metz                     Open de Moselle  24/09/2016   \n",
      "46623   53            Metz                     Open de Moselle  24/09/2016   \n",
      "46624   53            Metz                     Open de Moselle  25/09/2016   \n",
      "46625   54  St. Petersburg                 St. Petersburg Open  19/09/2016   \n",
      "46626   54  St. Petersburg                 St. Petersburg Open  19/09/2016   \n",
      "46627   54  St. Petersburg                 St. Petersburg Open  19/09/2016   \n",
      "46628   54  St. Petersburg                 St. Petersburg Open  20/09/2016   \n",
      "46629   54  St. Petersburg                 St. Petersburg Open  20/09/2016   \n",
      "46630   54  St. Petersburg                 St. Petersburg Open  20/09/2016   \n",
      "46631   54  St. Petersburg                 St. Petersburg Open  20/09/2016   \n",
      "46632   54  St. Petersburg                 St. Petersburg Open  21/09/2016   \n",
      "46633   54  St. Petersburg                 St. Petersburg Open  21/09/2016   \n",
      "46634   54  St. Petersburg                 St. Petersburg Open  21/09/2016   \n",
      "46635   54  St. Petersburg                 St. Petersburg Open  21/09/2016   \n",
      "46636   54  St. Petersburg                 St. Petersburg Open  21/09/2016   \n",
      "46637   54  St. Petersburg                 St. Petersburg Open  21/09/2016   \n",
      "46638   54  St. Petersburg                 St. Petersburg Open  21/09/2016   \n",
      "46639   54  St. Petersburg                 St. Petersburg Open  22/09/2016   \n",
      "46640   54  St. Petersburg                 St. Petersburg Open  22/09/2016   \n",
      "46641   54  St. Petersburg                 St. Petersburg Open  22/09/2016   \n",
      "46642   54  St. Petersburg                 St. Petersburg Open  22/09/2016   \n",
      "46643   54  St. Petersburg                 St. Petersburg Open  22/09/2016   \n",
      "46644   54  St. Petersburg                 St. Petersburg Open  22/09/2016   \n",
      "46645   54  St. Petersburg                 St. Petersburg Open  23/09/2016   \n",
      "46646   54  St. Petersburg                 St. Petersburg Open  23/09/2016   \n",
      "46647   54  St. Petersburg                 St. Petersburg Open  23/09/2016   \n",
      "46648   54  St. Petersburg                 St. Petersburg Open  23/09/2016   \n",
      "46649   54  St. Petersburg                 St. Petersburg Open  24/09/2016   \n",
      "46650   54  St. Petersburg                 St. Petersburg Open  24/09/2016   \n",
      "46651   54  St. Petersburg                 St. Petersburg Open  25/09/2016   \n",
      "\n",
      "              Series    Court Surface          Round  Best of  \\\n",
      "0      International  Outdoor    Hard      1st Round        3   \n",
      "1      International  Outdoor    Hard      1st Round        3   \n",
      "2      International  Outdoor    Hard      1st Round        3   \n",
      "3      International  Outdoor    Hard      1st Round        3   \n",
      "4      International  Outdoor    Hard      1st Round        3   \n",
      "5      International  Outdoor    Hard      1st Round        3   \n",
      "6      International  Outdoor    Hard      1st Round        3   \n",
      "7      International  Outdoor    Hard      1st Round        3   \n",
      "8      International  Outdoor    Hard      1st Round        3   \n",
      "9      International  Outdoor    Hard      1st Round        3   \n",
      "10     International  Outdoor    Hard      1st Round        3   \n",
      "11     International  Outdoor    Hard      1st Round        3   \n",
      "12     International  Outdoor    Hard      1st Round        3   \n",
      "13     International  Outdoor    Hard      1st Round        3   \n",
      "14     International  Outdoor    Hard      1st Round        3   \n",
      "15     International  Outdoor    Hard      1st Round        3   \n",
      "16     International  Outdoor    Hard      2nd Round        3   \n",
      "17     International  Outdoor    Hard      2nd Round        3   \n",
      "18     International  Outdoor    Hard      2nd Round        3   \n",
      "19     International  Outdoor    Hard      2nd Round        3   \n",
      "20     International  Outdoor    Hard      2nd Round        3   \n",
      "21     International  Outdoor    Hard      2nd Round        3   \n",
      "22     International  Outdoor    Hard      2nd Round        3   \n",
      "23     International  Outdoor    Hard      2nd Round        3   \n",
      "24     International  Outdoor    Hard  Quarterfinals        3   \n",
      "25     International  Outdoor    Hard  Quarterfinals        3   \n",
      "26     International  Outdoor    Hard  Quarterfinals        3   \n",
      "27     International  Outdoor    Hard  Quarterfinals        3   \n",
      "28     International  Outdoor    Hard     Semifinals        3   \n",
      "29     International  Outdoor    Hard     Semifinals        3   \n",
      "...              ...      ...     ...            ...      ...   \n",
      "46622         ATP250   Indoor    Hard     Semifinals        3   \n",
      "46623         ATP250   Indoor    Hard     Semifinals        3   \n",
      "46624         ATP250   Indoor    Hard      The Final        3   \n",
      "46625         ATP250   Indoor    Hard      1st Round        3   \n",
      "46626         ATP250   Indoor    Hard      1st Round        3   \n",
      "46627         ATP250   Indoor    Hard      1st Round        3   \n",
      "46628         ATP250   Indoor    Hard      1st Round        3   \n",
      "46629         ATP250   Indoor    Hard      1st Round        3   \n",
      "46630         ATP250   Indoor    Hard      1st Round        3   \n",
      "46631         ATP250   Indoor    Hard      1st Round        3   \n",
      "46632         ATP250   Indoor    Hard      1st Round        3   \n",
      "46633         ATP250   Indoor    Hard      1st Round        3   \n",
      "46634         ATP250   Indoor    Hard      1st Round        3   \n",
      "46635         ATP250   Indoor    Hard      1st Round        3   \n",
      "46636         ATP250   Indoor    Hard      1st Round        3   \n",
      "46637         ATP250   Indoor    Hard      2nd Round        3   \n",
      "46638         ATP250   Indoor    Hard      2nd Round        3   \n",
      "46639         ATP250   Indoor    Hard      2nd Round        3   \n",
      "46640         ATP250   Indoor    Hard      2nd Round        3   \n",
      "46641         ATP250   Indoor    Hard      2nd Round        3   \n",
      "46642         ATP250   Indoor    Hard      2nd Round        3   \n",
      "46643         ATP250   Indoor    Hard      2nd Round        3   \n",
      "46644         ATP250   Indoor    Hard      2nd Round        3   \n",
      "46645         ATP250   Indoor    Hard  Quarterfinals        3   \n",
      "46646         ATP250   Indoor    Hard  Quarterfinals        3   \n",
      "46647         ATP250   Indoor    Hard  Quarterfinals        3   \n",
      "46648         ATP250   Indoor    Hard  Quarterfinals        3   \n",
      "46649         ATP250   Indoor    Hard     Semifinals        3   \n",
      "46650         ATP250   Indoor    Hard     Semifinals        3   \n",
      "46651         ATP250   Indoor    Hard      The Final        3   \n",
      "\n",
      "                 Winner  ...  UBW UBL   LBW   LBL  SJW  SJL  MaxW  MaxL  AvgW  \\\n",
      "0            Dosedel S.  ...  NaN NaN   NaN   NaN  NaN  NaN   NaN   NaN   NaN   \n",
      "1            Enqvist T.  ...  NaN NaN   NaN   NaN  NaN  NaN   NaN   NaN   NaN   \n",
      "2             Escude N.  ...  NaN NaN   NaN   NaN  NaN  NaN   NaN   NaN   NaN   \n",
      "3            Federer R.  ...  NaN NaN   NaN   NaN  NaN  NaN   NaN   NaN   NaN   \n",
      "4           Fromberg R.  ...  NaN NaN   NaN   NaN  NaN  NaN   NaN   NaN   NaN   \n",
      "5          Gambill J.M.  ...  NaN NaN   NaN   NaN  NaN  NaN   NaN   NaN   NaN   \n",
      "6           Grosjean S.  ...  NaN NaN   NaN   NaN  NaN  NaN   NaN   NaN   NaN   \n",
      "7             Henman T.  ...  NaN NaN   NaN   NaN  NaN  NaN   NaN   NaN   NaN   \n",
      "8             Hewitt L.  ...  NaN NaN   NaN   NaN  NaN  NaN   NaN   NaN   NaN   \n",
      "9            Lisnard J.  ...  NaN NaN   NaN   NaN  NaN  NaN   NaN   NaN   NaN   \n",
      "10            Martin A.  ...  NaN NaN   NaN   NaN  NaN  NaN   NaN   NaN   NaN   \n",
      "11            Norman M.  ...  NaN NaN   NaN   NaN  NaN  NaN   NaN   NaN   NaN   \n",
      "12          Petrovic D.  ...  NaN NaN   NaN   NaN  NaN  NaN   NaN   NaN   NaN   \n",
      "13           Sekulov J.  ...  NaN NaN   NaN   NaN  NaN  NaN   NaN   NaN   NaN   \n",
      "14       Stoltenberg J.  ...  NaN NaN   NaN   NaN  NaN  NaN   NaN   NaN   NaN   \n",
      "15             Vinck C.  ...  NaN NaN   NaN   NaN  NaN  NaN   NaN   NaN   NaN   \n",
      "16           Enqvist T.  ...  NaN NaN   NaN   NaN  NaN  NaN   NaN   NaN   NaN   \n",
      "17            Escude N.  ...  NaN NaN   NaN   NaN  NaN  NaN   NaN   NaN   NaN   \n",
      "18          Grosjean S.  ...  NaN NaN   NaN   NaN  NaN  NaN   NaN   NaN   NaN   \n",
      "19            Henman T.  ...  NaN NaN   NaN   NaN  NaN  NaN   NaN   NaN   NaN   \n",
      "20            Hewitt L.  ...  NaN NaN   NaN   NaN  NaN  NaN   NaN   NaN   NaN   \n",
      "21            Martin A.  ...  NaN NaN   NaN   NaN  NaN  NaN   NaN   NaN   NaN   \n",
      "22            Norman M.  ...  NaN NaN   NaN   NaN  NaN  NaN   NaN   NaN   NaN   \n",
      "23       Stoltenberg J.  ...  NaN NaN   NaN   NaN  NaN  NaN   NaN   NaN   NaN   \n",
      "24           Enqvist T.  ...  NaN NaN   NaN   NaN  NaN  NaN   NaN   NaN   NaN   \n",
      "25            Escude N.  ...  NaN NaN   NaN   NaN  NaN  NaN   NaN   NaN   NaN   \n",
      "26            Hewitt L.  ...  NaN NaN   NaN   NaN  NaN  NaN   NaN   NaN   NaN   \n",
      "27            Norman M.  ...  NaN NaN   NaN   NaN  NaN  NaN   NaN   NaN   NaN   \n",
      "28           Enqvist T.  ...  NaN NaN   NaN   NaN  NaN  NaN   NaN   NaN   NaN   \n",
      "29            Hewitt L.  ...  NaN NaN   NaN   NaN  NaN  NaN   NaN   NaN   NaN   \n",
      "...                 ...  ...   ..  ..   ...   ...  ...  ...   ...   ...   ...   \n",
      "46622          Thiem D.  ...  NaN NaN  1.53  2.50  NaN  NaN  1.57  2.65  1.51   \n",
      "46623        Pouille L.  ...  NaN NaN  2.75  1.44  NaN  NaN  2.86  1.52  2.67   \n",
      "46624        Pouille L.  ...  NaN NaN  2.50  1.53  NaN  NaN  2.55  1.65  2.39   \n",
      "46625       Berankis R.  ...  NaN NaN  2.38  1.57  NaN  NaN  2.38  1.71  2.23   \n",
      "46626          Rosol L.  ...  NaN NaN  1.50  2.62  NaN  NaN  1.53  2.75  1.48   \n",
      "46627         Zverev A.  ...  NaN NaN  1.53  2.50  NaN  NaN  1.62  2.60  1.55   \n",
      "46628      Sidorenko A.  ...  NaN NaN  3.40  1.33  NaN  NaN  3.45  1.38  3.23   \n",
      "46629        Lorenzi P.  ...  NaN NaN  2.62  1.50  NaN  NaN  2.75  1.54  2.62   \n",
      "46630       Medvedev D.  ...  NaN NaN  1.20  4.50  NaN  NaN  1.23  4.75  1.20   \n",
      "46631        Lajovic D.  ...  NaN NaN  2.75  1.44  NaN  NaN  3.15  1.44  2.88   \n",
      "46632         Rublev A.  ...  NaN NaN  2.25  1.62  NaN  NaN  2.53  1.63  2.36   \n",
      "46633          Sousa J.  ...  NaN NaN  1.53  2.50  NaN  NaN  1.56  2.75  1.48   \n",
      "46634        Youzhny M.  ...  NaN NaN  1.80  2.00  NaN  NaN  2.01  2.00  1.85   \n",
      "46635        Troicki V.  ...  NaN NaN  1.25  4.00  NaN  NaN  1.29  4.30  1.24   \n",
      "46636     Kuznetsov An.  ...  NaN NaN  1.44  2.75  NaN  NaN  1.45  3.05  1.41   \n",
      "46637       Wawrinka S.  ...  NaN NaN  1.20  4.50  NaN  NaN  1.30  4.50  1.25   \n",
      "46638  Bautista Agut R.  ...  NaN NaN  1.17  5.00  NaN  NaN  1.20  5.28  1.18   \n",
      "46639          Sousa J.  ...  NaN NaN  1.44  2.75  NaN  NaN  1.55  2.80  1.47   \n",
      "46640        Lorenzi P.  ...  NaN NaN  1.44  2.75  NaN  NaN  1.47  3.05  1.40   \n",
      "46641        Troicki V.  ...  NaN NaN  1.40  3.00  NaN  NaN  1.43  3.25  1.37   \n",
      "46642        Berdych T.  ...  NaN NaN  1.40  3.00  NaN  NaN  1.43  3.15  1.38   \n",
      "46643         Zverev A.  ...  NaN NaN  1.36  3.25  NaN  NaN  1.39  3.75  1.32   \n",
      "46644        Youzhny M.  ...  NaN NaN  5.00  1.17  NaN  NaN  5.96  1.18  5.23   \n",
      "46645        Berdych T.  ...  NaN NaN  1.17  5.00  NaN  NaN  1.20  5.80  1.16   \n",
      "46646  Bautista Agut R.  ...  NaN NaN  1.36  3.25  NaN  NaN  1.40  3.45  1.36   \n",
      "46647         Zverev A.  ...  NaN NaN  1.57  2.38  NaN  NaN  1.66  2.45  1.60   \n",
      "46648       Wawrinka S.  ...  NaN NaN  1.22  4.33  NaN  NaN  1.24  4.91  1.21   \n",
      "46649         Zverev A.  ...  NaN NaN  2.38  1.57  NaN  NaN  3.12  1.57  2.68   \n",
      "46650       Wawrinka S.  ...  NaN NaN  1.33  3.40  NaN  NaN  1.41  3.80  1.31   \n",
      "46651         Zverev A.  ...  NaN NaN  3.30  1.33  NaN  NaN  3.58  1.36  3.36   \n",
      "\n",
      "       AvgL  \n",
      "0       NaN  \n",
      "1       NaN  \n",
      "2       NaN  \n",
      "3       NaN  \n",
      "4       NaN  \n",
      "5       NaN  \n",
      "6       NaN  \n",
      "7       NaN  \n",
      "8       NaN  \n",
      "9       NaN  \n",
      "10      NaN  \n",
      "11      NaN  \n",
      "12      NaN  \n",
      "13      NaN  \n",
      "14      NaN  \n",
      "15      NaN  \n",
      "16      NaN  \n",
      "17      NaN  \n",
      "18      NaN  \n",
      "19      NaN  \n",
      "20      NaN  \n",
      "21      NaN  \n",
      "22      NaN  \n",
      "23      NaN  \n",
      "24      NaN  \n",
      "25      NaN  \n",
      "26      NaN  \n",
      "27      NaN  \n",
      "28      NaN  \n",
      "29      NaN  \n",
      "...     ...  \n",
      "46622  2.51  \n",
      "46623  1.46  \n",
      "46624  1.56  \n",
      "46625  1.63  \n",
      "46626  2.59  \n",
      "46627  2.41  \n",
      "46628  1.33  \n",
      "46629  1.47  \n",
      "46630  4.36  \n",
      "46631  1.40  \n",
      "46632  1.57  \n",
      "46633  2.59  \n",
      "46634  1.92  \n",
      "46635  3.93  \n",
      "46636  2.81  \n",
      "46637  3.87  \n",
      "46638  4.73  \n",
      "46639  2.63  \n",
      "46640  2.86  \n",
      "46641  3.04  \n",
      "46642  2.98  \n",
      "46643  3.32  \n",
      "46644  1.15  \n",
      "46645  5.02  \n",
      "46646  3.11  \n",
      "46647  2.30  \n",
      "46648  4.34  \n",
      "46649  1.46  \n",
      "46650  3.40  \n",
      "46651  1.31  \n",
      "\n",
      "[46652 rows x 54 columns]\n"
     ]
    }
   ],
   "source": [
    "nuevo = pd.DataFrame(datos)\n",
    "print(nuevo)"
   ]
  },
  {
   "cell_type": "code",
   "execution_count": 10,
   "metadata": {},
   "outputs": [],
   "source": [
    "nuevo = nuevo.replace(np.nan, \"0\")"
   ]
  },
  {
   "cell_type": "markdown",
   "metadata": {},
   "source": [
    "### Impresion sin NaN"
   ]
  },
  {
   "cell_type": "code",
   "execution_count": 11,
   "metadata": {},
   "outputs": [
    {
     "name": "stdout",
     "output_type": "stream",
     "text": [
      "<class 'pandas.core.frame.DataFrame'>\n",
      "RangeIndex: 46652 entries, 0 to 46651\n",
      "Data columns (total 54 columns):\n",
      "ATP           46652 non-null int64\n",
      "Location      46652 non-null object\n",
      "Tournament    46652 non-null object\n",
      "Date          46652 non-null object\n",
      "Series        46652 non-null object\n",
      "Court         46652 non-null object\n",
      "Surface       46652 non-null object\n",
      "Round         46652 non-null object\n",
      "Best of       46652 non-null int64\n",
      "Winner        46652 non-null object\n",
      "Loser         46652 non-null object\n",
      "WRank         46652 non-null object\n",
      "LRank         46652 non-null object\n",
      "W1            46652 non-null object\n",
      "L1            46652 non-null object\n",
      "W2            46652 non-null object\n",
      "L2            46652 non-null object\n",
      "W3            46652 non-null object\n",
      "L3            46652 non-null object\n",
      "W4            46652 non-null object\n",
      "L4            46652 non-null object\n",
      "W5            46652 non-null object\n",
      "L5            46652 non-null object\n",
      "Wsets         46652 non-null object\n",
      "Lsets         46652 non-null object\n",
      "Comment       46652 non-null object\n",
      "CBW           46652 non-null object\n",
      "CBL           46652 non-null object\n",
      "GBW           46652 non-null object\n",
      "GBL           46652 non-null object\n",
      "IWW           46652 non-null object\n",
      "IWL           46652 non-null object\n",
      "SBW           46652 non-null object\n",
      "SBL           46652 non-null object\n",
      "B365W         46652 non-null object\n",
      "B365L         46652 non-null object\n",
      "B&WW          46652 non-null object\n",
      "B&WL          46652 non-null object\n",
      "EXW           46652 non-null object\n",
      "EXL           46652 non-null object\n",
      "PSW           46652 non-null object\n",
      "PSL           46652 non-null object\n",
      "WPts          46652 non-null object\n",
      "LPts          46652 non-null object\n",
      "UBW           46652 non-null object\n",
      "UBL           46652 non-null object\n",
      "LBW           46652 non-null object\n",
      "LBL           46652 non-null object\n",
      "SJW           46652 non-null object\n",
      "SJL           46652 non-null object\n",
      "MaxW          46652 non-null object\n",
      "MaxL          46652 non-null object\n",
      "AvgW          46652 non-null object\n",
      "AvgL          46652 non-null object\n",
      "dtypes: int64(2), object(52)\n",
      "memory usage: 10.0+ MB\n"
     ]
    }
   ],
   "source": [
    "nuevo.info()"
   ]
  },
  {
   "cell_type": "markdown",
   "metadata": {},
   "source": [
    "### Estadisticas sin NaN"
   ]
  },
  {
   "cell_type": "code",
   "execution_count": 12,
   "metadata": {},
   "outputs": [
    {
     "data": {
      "text/html": [
       "<div>\n",
       "<style scoped>\n",
       "    .dataframe tbody tr th:only-of-type {\n",
       "        vertical-align: middle;\n",
       "    }\n",
       "\n",
       "    .dataframe tbody tr th {\n",
       "        vertical-align: top;\n",
       "    }\n",
       "\n",
       "    .dataframe thead th {\n",
       "        text-align: right;\n",
       "    }\n",
       "</style>\n",
       "<table border=\"1\" class=\"dataframe\">\n",
       "  <thead>\n",
       "    <tr style=\"text-align: right;\">\n",
       "      <th></th>\n",
       "      <th>ATP</th>\n",
       "      <th>Best of</th>\n",
       "    </tr>\n",
       "  </thead>\n",
       "  <tbody>\n",
       "    <tr>\n",
       "      <th>count</th>\n",
       "      <td>46652.000000</td>\n",
       "      <td>46652.000000</td>\n",
       "    </tr>\n",
       "    <tr>\n",
       "      <th>mean</th>\n",
       "      <td>32.931000</td>\n",
       "      <td>3.373746</td>\n",
       "    </tr>\n",
       "    <tr>\n",
       "      <th>std</th>\n",
       "      <td>17.953268</td>\n",
       "      <td>0.780315</td>\n",
       "    </tr>\n",
       "    <tr>\n",
       "      <th>min</th>\n",
       "      <td>1.000000</td>\n",
       "      <td>-1.000000</td>\n",
       "    </tr>\n",
       "    <tr>\n",
       "      <th>25%</th>\n",
       "      <td>19.000000</td>\n",
       "      <td>3.000000</td>\n",
       "    </tr>\n",
       "    <tr>\n",
       "      <th>50%</th>\n",
       "      <td>33.000000</td>\n",
       "      <td>3.000000</td>\n",
       "    </tr>\n",
       "    <tr>\n",
       "      <th>75%</th>\n",
       "      <td>49.000000</td>\n",
       "      <td>3.000000</td>\n",
       "    </tr>\n",
       "    <tr>\n",
       "      <th>max</th>\n",
       "      <td>69.000000</td>\n",
       "      <td>5.000000</td>\n",
       "    </tr>\n",
       "  </tbody>\n",
       "</table>\n",
       "</div>"
      ],
      "text/plain": [
       "                ATP       Best of\n",
       "count  46652.000000  46652.000000\n",
       "mean      32.931000      3.373746\n",
       "std       17.953268      0.780315\n",
       "min        1.000000     -1.000000\n",
       "25%       19.000000      3.000000\n",
       "50%       33.000000      3.000000\n",
       "75%       49.000000      3.000000\n",
       "max       69.000000      5.000000"
      ]
     },
     "execution_count": 12,
     "metadata": {},
     "output_type": "execute_result"
    }
   ],
   "source": [
    "nuevo.describe()"
   ]
  },
  {
   "cell_type": "markdown",
   "metadata": {},
   "source": [
    "### Estadisticas solo numeros"
   ]
  },
  {
   "cell_type": "code",
   "execution_count": 13,
   "metadata": {},
   "outputs": [
    {
     "name": "stdout",
     "output_type": "stream",
     "text": [
      "                ATP       Best of\n",
      "count  46652.000000  46652.000000\n",
      "mean      32.931000      3.373746\n",
      "std       17.953268      0.780315\n",
      "min        1.000000     -1.000000\n",
      "25%       19.000000      3.000000\n",
      "50%       33.000000      3.000000\n",
      "75%       49.000000      3.000000\n",
      "max       69.000000      5.000000\n"
     ]
    }
   ],
   "source": [
    "print(nuevo.describe(include=[np.number]))"
   ]
  },
  {
   "cell_type": "code",
   "execution_count": 14,
   "metadata": {},
   "outputs": [],
   "source": [
    "nuevo = nuevo.replace(\"N/A\", \"0\")\n",
    "nuevo = nuevo.replace(\"NR\", \"0\")"
   ]
  },
  {
   "cell_type": "markdown",
   "metadata": {},
   "source": [
    "### Estadisticas sin N/A y NR"
   ]
  },
  {
   "cell_type": "code",
   "execution_count": 15,
   "metadata": {},
   "outputs": [
    {
     "name": "stdout",
     "output_type": "stream",
     "text": [
      "                ATP       Best of\n",
      "count  46652.000000  46652.000000\n",
      "mean      32.931000      3.373746\n",
      "std       17.953268      0.780315\n",
      "min        1.000000     -1.000000\n",
      "25%       19.000000      3.000000\n",
      "50%       33.000000      3.000000\n",
      "75%       49.000000      3.000000\n",
      "max       69.000000      5.000000\n"
     ]
    }
   ],
   "source": [
    "print(nuevo.describe())"
   ]
  },
  {
   "cell_type": "code",
   "execution_count": 16,
   "metadata": {},
   "outputs": [
    {
     "name": "stdout",
     "output_type": "stream",
     "text": [
      "['ATP', 'Location', 'Tournament', 'Date', 'Series', 'Court', 'Surface', 'Round', 'Best of', 'Winner', 'Loser', 'WRank', 'LRank', 'W1', 'L1', 'W2', 'L2', 'W3', 'L3', 'W4', 'L4', 'W5', 'L5', 'Wsets', 'Lsets', 'Comment', 'CBW', 'CBL', 'GBW', 'GBL', 'IWW', 'IWL', 'SBW', 'SBL', 'B365W', 'B365L', 'B&WW', 'B&WL', 'EXW', 'EXL', 'PSW', 'PSL', 'WPts', 'LPts', 'UBW', 'UBL', 'LBW', 'LBL', 'SJW', 'SJL', 'MaxW', 'MaxL', 'AvgW', 'AvgL']\n"
     ]
    }
   ],
   "source": [
    "print(list(nuevo))"
   ]
  },
  {
   "cell_type": "code",
   "execution_count": 17,
   "metadata": {},
   "outputs": [],
   "source": [
    "nuevo['Wsets'] = nuevo.Wsets.astype(int)\n",
    "nuevo['Wrank'] = nuevo.WRank.astype(int)"
   ]
  },
  {
   "cell_type": "markdown",
   "metadata": {},
   "source": [
    "### Estadisticas de ranking y sets"
   ]
  },
  {
   "cell_type": "code",
   "execution_count": 18,
   "metadata": {},
   "outputs": [
    {
     "name": "stdout",
     "output_type": "stream",
     "text": [
      "                ATP       Best of         Wsets         Wrank\n",
      "count  46652.000000  46652.000000  46652.000000  46652.000000\n",
      "mean      32.931000      3.373746      2.133092     59.035926\n",
      "std       17.953268      0.780315      0.481388     73.296447\n",
      "min        1.000000     -1.000000      0.000000      0.000000\n",
      "25%       19.000000      3.000000      2.000000     17.000000\n",
      "50%       33.000000      3.000000      2.000000     41.000000\n",
      "75%       49.000000      3.000000      2.000000     77.000000\n",
      "max       69.000000      5.000000      3.000000   1890.000000\n"
     ]
    }
   ],
   "source": [
    "print(nuevo.describe())"
   ]
  },
  {
   "cell_type": "markdown",
   "metadata": {},
   "source": [
    "### Eliminar todas als filas con NaN en el dataframe principal sin modificaciones"
   ]
  },
  {
   "cell_type": "code",
   "execution_count": 19,
   "metadata": {},
   "outputs": [],
   "source": [
    "datos.dropna(how=\"any\", inplace=True)"
   ]
  },
  {
   "cell_type": "code",
   "execution_count": 20,
   "metadata": {},
   "outputs": [
    {
     "name": "stdout",
     "output_type": "stream",
     "text": [
      "Empty DataFrame\n",
      "Columns: [ATP, Location, Tournament, Date, Series, Court, Surface, Round, Best of, Winner, Loser, WRank, LRank, W1, L1, W2, L2, W3, L3, W4, L4, W5, L5, Wsets, Lsets, Comment, CBW, CBL, GBW, GBL, IWW, IWL, SBW, SBL, B365W, B365L, B&WW, B&WL, EXW, EXL, PSW, PSL, WPts, LPts, UBW, UBL, LBW, LBL, SJW, SJL, MaxW, MaxL, AvgW, AvgL]\n",
      "Index: []\n",
      "\n",
      "[0 rows x 54 columns]\n"
     ]
    }
   ],
   "source": [
    "print(datos.head())"
   ]
  },
  {
   "cell_type": "markdown",
   "metadata": {},
   "source": [
    "#### Empty DataFrame se da porque eliminamos todas las filas que tenian un NaN por lo tanto esto quiere decir que en todas las filas por lo menos habia un NaN por lo que el DatFrame quedo vacio."
   ]
  }
 ],
 "metadata": {
  "kernelspec": {
   "display_name": "Python 3",
   "language": "python",
   "name": "python3"
  },
  "language_info": {
   "codemirror_mode": {
    "name": "ipython",
    "version": 3
   },
   "file_extension": ".py",
   "mimetype": "text/x-python",
   "name": "python",
   "nbconvert_exporter": "python",
   "pygments_lexer": "ipython3",
   "version": "3.7.1"
  }
 },
 "nbformat": 4,
 "nbformat_minor": 2
}
