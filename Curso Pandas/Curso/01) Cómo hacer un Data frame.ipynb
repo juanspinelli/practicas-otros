{
 "cells": [
  {
   "cell_type": "markdown",
   "metadata": {},
   "source": [
    "## Duración 00:23:38"
   ]
  },
  {
   "cell_type": "markdown",
   "metadata": {},
   "source": [
    "### Crear un DataFrame"
   ]
  },
  {
   "cell_type": "code",
   "execution_count": 1,
   "metadata": {},
   "outputs": [],
   "source": [
    "import pandas as pd"
   ]
  },
  {
   "cell_type": "code",
   "execution_count": 2,
   "metadata": {},
   "outputs": [],
   "source": [
    "datos = { 'Nombre' : ['Juan', 'Romina', 'Lucas', 'Cristian', 'Damian', 'Javier'],\n",
    "         'Calificaciones': ['100', '99', '98', '97', '96', '95'],\n",
    "         'Deportes': ['Futbol', 'Voley', 'Basquet', 'Futbol','Futbol', 'Futbol'],\n",
    "         'Materias': ['Calculo', 'Lenguas', 'Historia', 'Dibujo', 'Musica', 'Programación'] }"
   ]
  },
  {
   "cell_type": "code",
   "execution_count": 3,
   "metadata": {},
   "outputs": [
    {
     "name": "stdout",
     "output_type": "stream",
     "text": [
      "{'Nombre': ['Juan', 'Romina', 'Lucas', 'Cristian', 'Damian', 'Javier'], 'Calificaciones': ['100', '99', '98', '97', '96', '95'], 'Deportes': ['Futbol', 'Voley', 'Basquet', 'Futbol', 'Futbol', 'Futbol'], 'Materias': ['Calculo', 'Lenguas', 'Historia', 'Dibujo', 'Musica', 'Programación']}\n"
     ]
    }
   ],
   "source": [
    "print(datos)"
   ]
  },
  {
   "cell_type": "code",
   "execution_count": 4,
   "metadata": {},
   "outputs": [],
   "source": [
    "df = pd.DataFrame(datos)"
   ]
  },
  {
   "cell_type": "code",
   "execution_count": 5,
   "metadata": {},
   "outputs": [
    {
     "data": {
      "text/html": [
       "<div>\n",
       "<style scoped>\n",
       "    .dataframe tbody tr th:only-of-type {\n",
       "        vertical-align: middle;\n",
       "    }\n",
       "\n",
       "    .dataframe tbody tr th {\n",
       "        vertical-align: top;\n",
       "    }\n",
       "\n",
       "    .dataframe thead th {\n",
       "        text-align: right;\n",
       "    }\n",
       "</style>\n",
       "<table border=\"1\" class=\"dataframe\">\n",
       "  <thead>\n",
       "    <tr style=\"text-align: right;\">\n",
       "      <th></th>\n",
       "      <th>Nombre</th>\n",
       "      <th>Calificaciones</th>\n",
       "      <th>Deportes</th>\n",
       "      <th>Materias</th>\n",
       "    </tr>\n",
       "  </thead>\n",
       "  <tbody>\n",
       "    <tr>\n",
       "      <th>0</th>\n",
       "      <td>Juan</td>\n",
       "      <td>100</td>\n",
       "      <td>Futbol</td>\n",
       "      <td>Calculo</td>\n",
       "    </tr>\n",
       "    <tr>\n",
       "      <th>1</th>\n",
       "      <td>Romina</td>\n",
       "      <td>99</td>\n",
       "      <td>Voley</td>\n",
       "      <td>Lenguas</td>\n",
       "    </tr>\n",
       "    <tr>\n",
       "      <th>2</th>\n",
       "      <td>Lucas</td>\n",
       "      <td>98</td>\n",
       "      <td>Basquet</td>\n",
       "      <td>Historia</td>\n",
       "    </tr>\n",
       "    <tr>\n",
       "      <th>3</th>\n",
       "      <td>Cristian</td>\n",
       "      <td>97</td>\n",
       "      <td>Futbol</td>\n",
       "      <td>Dibujo</td>\n",
       "    </tr>\n",
       "    <tr>\n",
       "      <th>4</th>\n",
       "      <td>Damian</td>\n",
       "      <td>96</td>\n",
       "      <td>Futbol</td>\n",
       "      <td>Musica</td>\n",
       "    </tr>\n",
       "    <tr>\n",
       "      <th>5</th>\n",
       "      <td>Javier</td>\n",
       "      <td>95</td>\n",
       "      <td>Futbol</td>\n",
       "      <td>Programación</td>\n",
       "    </tr>\n",
       "  </tbody>\n",
       "</table>\n",
       "</div>"
      ],
      "text/plain": [
       "     Nombre Calificaciones Deportes      Materias\n",
       "0      Juan            100   Futbol       Calculo\n",
       "1    Romina             99    Voley       Lenguas\n",
       "2     Lucas             98  Basquet      Historia\n",
       "3  Cristian             97   Futbol        Dibujo\n",
       "4    Damian             96   Futbol        Musica\n",
       "5    Javier             95   Futbol  Programación"
      ]
     },
     "execution_count": 5,
     "metadata": {},
     "output_type": "execute_result"
    }
   ],
   "source": [
    "df"
   ]
  },
  {
   "cell_type": "code",
   "execution_count": 6,
   "metadata": {
    "scrolled": true
   },
   "outputs": [
    {
     "data": {
      "text/html": [
       "<div>\n",
       "<style scoped>\n",
       "    .dataframe tbody tr th:only-of-type {\n",
       "        vertical-align: middle;\n",
       "    }\n",
       "\n",
       "    .dataframe tbody tr th {\n",
       "        vertical-align: top;\n",
       "    }\n",
       "\n",
       "    .dataframe thead th {\n",
       "        text-align: right;\n",
       "    }\n",
       "</style>\n",
       "<table border=\"1\" class=\"dataframe\">\n",
       "  <thead>\n",
       "    <tr style=\"text-align: right;\">\n",
       "      <th></th>\n",
       "      <th>Nombre</th>\n",
       "      <th>Calificaciones</th>\n",
       "      <th>Deportes</th>\n",
       "      <th>Materias</th>\n",
       "    </tr>\n",
       "  </thead>\n",
       "  <tbody>\n",
       "    <tr>\n",
       "      <th>0</th>\n",
       "      <td>Juan</td>\n",
       "      <td>100</td>\n",
       "      <td>Futbol</td>\n",
       "      <td>Calculo</td>\n",
       "    </tr>\n",
       "  </tbody>\n",
       "</table>\n",
       "</div>"
      ],
      "text/plain": [
       "  Nombre Calificaciones Deportes Materias\n",
       "0   Juan            100   Futbol  Calculo"
      ]
     },
     "execution_count": 6,
     "metadata": {},
     "output_type": "execute_result"
    }
   ],
   "source": [
    "df.head(1)"
   ]
  },
  {
   "cell_type": "markdown",
   "metadata": {},
   "source": [
    "### DataFrame manipulado para hacer modificaciones"
   ]
  },
  {
   "cell_type": "code",
   "execution_count": 7,
   "metadata": {},
   "outputs": [],
   "source": [
    "import numpy as np"
   ]
  },
  {
   "cell_type": "code",
   "execution_count": 8,
   "metadata": {},
   "outputs": [],
   "source": [
    "datosManipulados = { 'Nombre' : ['Juan', 'Romina', 'Lucas', 'Cristian', 'Damian', 'N/A'],\n",
    "         'Calificaciones': ['100', '99', '98', np.nan, '96', '95'],\n",
    "         'Deportes': ['Futbol', 'Voley', 'Basquet', 'Futbol','N/A', 'Futbol'],\n",
    "         'Materias': ['Calculo', 'Lenguas', 'N/A', 'Dibujo', 'Musica', 'Programación'] }"
   ]
  },
  {
   "cell_type": "code",
   "execution_count": 9,
   "metadata": {},
   "outputs": [],
   "source": [
    "dfManipulados = pd.DataFrame(datosManipulados)"
   ]
  },
  {
   "cell_type": "code",
   "execution_count": 10,
   "metadata": {},
   "outputs": [
    {
     "data": {
      "text/html": [
       "<div>\n",
       "<style scoped>\n",
       "    .dataframe tbody tr th:only-of-type {\n",
       "        vertical-align: middle;\n",
       "    }\n",
       "\n",
       "    .dataframe tbody tr th {\n",
       "        vertical-align: top;\n",
       "    }\n",
       "\n",
       "    .dataframe thead th {\n",
       "        text-align: right;\n",
       "    }\n",
       "</style>\n",
       "<table border=\"1\" class=\"dataframe\">\n",
       "  <thead>\n",
       "    <tr style=\"text-align: right;\">\n",
       "      <th></th>\n",
       "      <th>Nombre</th>\n",
       "      <th>Calificaciones</th>\n",
       "      <th>Deportes</th>\n",
       "      <th>Materias</th>\n",
       "    </tr>\n",
       "  </thead>\n",
       "  <tbody>\n",
       "    <tr>\n",
       "      <th>0</th>\n",
       "      <td>Juan</td>\n",
       "      <td>100</td>\n",
       "      <td>Futbol</td>\n",
       "      <td>Calculo</td>\n",
       "    </tr>\n",
       "    <tr>\n",
       "      <th>1</th>\n",
       "      <td>Romina</td>\n",
       "      <td>99</td>\n",
       "      <td>Voley</td>\n",
       "      <td>Lenguas</td>\n",
       "    </tr>\n",
       "    <tr>\n",
       "      <th>2</th>\n",
       "      <td>Lucas</td>\n",
       "      <td>98</td>\n",
       "      <td>Basquet</td>\n",
       "      <td>N/A</td>\n",
       "    </tr>\n",
       "    <tr>\n",
       "      <th>3</th>\n",
       "      <td>Cristian</td>\n",
       "      <td>NaN</td>\n",
       "      <td>Futbol</td>\n",
       "      <td>Dibujo</td>\n",
       "    </tr>\n",
       "    <tr>\n",
       "      <th>4</th>\n",
       "      <td>Damian</td>\n",
       "      <td>96</td>\n",
       "      <td>N/A</td>\n",
       "      <td>Musica</td>\n",
       "    </tr>\n",
       "    <tr>\n",
       "      <th>5</th>\n",
       "      <td>N/A</td>\n",
       "      <td>95</td>\n",
       "      <td>Futbol</td>\n",
       "      <td>Programación</td>\n",
       "    </tr>\n",
       "  </tbody>\n",
       "</table>\n",
       "</div>"
      ],
      "text/plain": [
       "     Nombre Calificaciones Deportes      Materias\n",
       "0      Juan            100   Futbol       Calculo\n",
       "1    Romina             99    Voley       Lenguas\n",
       "2     Lucas             98  Basquet           N/A\n",
       "3  Cristian            NaN   Futbol        Dibujo\n",
       "4    Damian             96      N/A        Musica\n",
       "5       N/A             95   Futbol  Programación"
      ]
     },
     "execution_count": 10,
     "metadata": {},
     "output_type": "execute_result"
    }
   ],
   "source": [
    "dfManipulados"
   ]
  },
  {
   "cell_type": "code",
   "execution_count": 11,
   "metadata": {},
   "outputs": [
    {
     "name": "stdout",
     "output_type": "stream",
     "text": [
      "<class 'pandas.core.frame.DataFrame'>\n",
      "RangeIndex: 6 entries, 0 to 5\n",
      "Data columns (total 4 columns):\n",
      "Nombre            6 non-null object\n",
      "Calificaciones    5 non-null object\n",
      "Deportes          6 non-null object\n",
      "Materias          6 non-null object\n",
      "dtypes: object(4)\n",
      "memory usage: 136.0+ bytes\n"
     ]
    }
   ],
   "source": [
    "dfManipulados.info()"
   ]
  },
  {
   "cell_type": "markdown",
   "metadata": {},
   "source": [
    "### Estadísticas"
   ]
  },
  {
   "cell_type": "code",
   "execution_count": 12,
   "metadata": {},
   "outputs": [
    {
     "data": {
      "text/html": [
       "<div>\n",
       "<style scoped>\n",
       "    .dataframe tbody tr th:only-of-type {\n",
       "        vertical-align: middle;\n",
       "    }\n",
       "\n",
       "    .dataframe tbody tr th {\n",
       "        vertical-align: top;\n",
       "    }\n",
       "\n",
       "    .dataframe thead th {\n",
       "        text-align: right;\n",
       "    }\n",
       "</style>\n",
       "<table border=\"1\" class=\"dataframe\">\n",
       "  <thead>\n",
       "    <tr style=\"text-align: right;\">\n",
       "      <th></th>\n",
       "      <th>Nombre</th>\n",
       "      <th>Calificaciones</th>\n",
       "      <th>Deportes</th>\n",
       "      <th>Materias</th>\n",
       "    </tr>\n",
       "  </thead>\n",
       "  <tbody>\n",
       "    <tr>\n",
       "      <th>count</th>\n",
       "      <td>6</td>\n",
       "      <td>5</td>\n",
       "      <td>6</td>\n",
       "      <td>6</td>\n",
       "    </tr>\n",
       "    <tr>\n",
       "      <th>unique</th>\n",
       "      <td>6</td>\n",
       "      <td>5</td>\n",
       "      <td>4</td>\n",
       "      <td>6</td>\n",
       "    </tr>\n",
       "    <tr>\n",
       "      <th>top</th>\n",
       "      <td>N/A</td>\n",
       "      <td>98</td>\n",
       "      <td>Futbol</td>\n",
       "      <td>Lenguas</td>\n",
       "    </tr>\n",
       "    <tr>\n",
       "      <th>freq</th>\n",
       "      <td>1</td>\n",
       "      <td>1</td>\n",
       "      <td>3</td>\n",
       "      <td>1</td>\n",
       "    </tr>\n",
       "  </tbody>\n",
       "</table>\n",
       "</div>"
      ],
      "text/plain": [
       "       Nombre Calificaciones Deportes Materias\n",
       "count       6              5        6        6\n",
       "unique      6              5        4        6\n",
       "top       N/A             98   Futbol  Lenguas\n",
       "freq        1              1        3        1"
      ]
     },
     "execution_count": 12,
     "metadata": {},
     "output_type": "execute_result"
    }
   ],
   "source": [
    "dfManipulados.describe()"
   ]
  },
  {
   "cell_type": "code",
   "execution_count": 13,
   "metadata": {},
   "outputs": [],
   "source": [
    "dfSinNan = pd.DataFrame(dfManipulados)"
   ]
  },
  {
   "cell_type": "code",
   "execution_count": 14,
   "metadata": {},
   "outputs": [],
   "source": [
    "dfSinNan = dfSinNan.replace(np.nan, '0')"
   ]
  },
  {
   "cell_type": "code",
   "execution_count": 15,
   "metadata": {},
   "outputs": [
    {
     "name": "stdout",
     "output_type": "stream",
     "text": [
      "     Nombre Calificaciones Deportes      Materias\n",
      "0      Juan            100   Futbol       Calculo\n",
      "1    Romina             99    Voley       Lenguas\n",
      "2     Lucas             98  Basquet           N/A\n",
      "3  Cristian              0   Futbol        Dibujo\n",
      "4    Damian             96      N/A        Musica\n",
      "5       N/A             95   Futbol  Programación\n"
     ]
    }
   ],
   "source": [
    "print(dfSinNan)"
   ]
  },
  {
   "cell_type": "markdown",
   "metadata": {},
   "source": [
    "#### Eliminan nan"
   ]
  },
  {
   "cell_type": "code",
   "execution_count": 16,
   "metadata": {},
   "outputs": [],
   "source": [
    "dfEliminarNan = pd.DataFrame(dfManipulados)"
   ]
  },
  {
   "cell_type": "code",
   "execution_count": 17,
   "metadata": {},
   "outputs": [],
   "source": [
    "dfEliminarNan.dropna(how='any', inplace= True)"
   ]
  },
  {
   "cell_type": "code",
   "execution_count": 18,
   "metadata": {},
   "outputs": [
    {
     "name": "stdout",
     "output_type": "stream",
     "text": [
      "   Nombre Calificaciones Deportes      Materias\n",
      "0    Juan            100   Futbol       Calculo\n",
      "1  Romina             99    Voley       Lenguas\n",
      "2   Lucas             98  Basquet           N/A\n",
      "4  Damian             96      N/A        Musica\n",
      "5     N/A             95   Futbol  Programación\n"
     ]
    }
   ],
   "source": [
    "print(dfEliminarNan)\n",
    "### Se elimina a Cristian porque tiene un nan en calificaciones"
   ]
  },
  {
   "cell_type": "markdown",
   "metadata": {},
   "source": [
    "### Eliminar registro buscando por columna"
   ]
  },
  {
   "cell_type": "code",
   "execution_count": 19,
   "metadata": {},
   "outputs": [],
   "source": [
    "dfEliminarPorColumna = pd.DataFrame(dfManipulados)"
   ]
  },
  {
   "cell_type": "code",
   "execution_count": 20,
   "metadata": {},
   "outputs": [],
   "source": [
    "dfEliminarPorColumna = dfEliminarPorColumna[dfEliminarPorColumna['Nombre'] != 'N/A']"
   ]
  },
  {
   "cell_type": "code",
   "execution_count": 21,
   "metadata": {},
   "outputs": [
    {
     "data": {
      "text/html": [
       "<div>\n",
       "<style scoped>\n",
       "    .dataframe tbody tr th:only-of-type {\n",
       "        vertical-align: middle;\n",
       "    }\n",
       "\n",
       "    .dataframe tbody tr th {\n",
       "        vertical-align: top;\n",
       "    }\n",
       "\n",
       "    .dataframe thead th {\n",
       "        text-align: right;\n",
       "    }\n",
       "</style>\n",
       "<table border=\"1\" class=\"dataframe\">\n",
       "  <thead>\n",
       "    <tr style=\"text-align: right;\">\n",
       "      <th></th>\n",
       "      <th>Nombre</th>\n",
       "      <th>Calificaciones</th>\n",
       "      <th>Deportes</th>\n",
       "      <th>Materias</th>\n",
       "    </tr>\n",
       "  </thead>\n",
       "  <tbody>\n",
       "    <tr>\n",
       "      <th>0</th>\n",
       "      <td>Juan</td>\n",
       "      <td>100</td>\n",
       "      <td>Futbol</td>\n",
       "      <td>Calculo</td>\n",
       "    </tr>\n",
       "    <tr>\n",
       "      <th>1</th>\n",
       "      <td>Romina</td>\n",
       "      <td>99</td>\n",
       "      <td>Voley</td>\n",
       "      <td>Lenguas</td>\n",
       "    </tr>\n",
       "    <tr>\n",
       "      <th>2</th>\n",
       "      <td>Lucas</td>\n",
       "      <td>98</td>\n",
       "      <td>Basquet</td>\n",
       "      <td>N/A</td>\n",
       "    </tr>\n",
       "    <tr>\n",
       "      <th>3</th>\n",
       "      <td>Cristian</td>\n",
       "      <td>NaN</td>\n",
       "      <td>Futbol</td>\n",
       "      <td>Dibujo</td>\n",
       "    </tr>\n",
       "    <tr>\n",
       "      <th>4</th>\n",
       "      <td>Damian</td>\n",
       "      <td>96</td>\n",
       "      <td>N/A</td>\n",
       "      <td>Musica</td>\n",
       "    </tr>\n",
       "  </tbody>\n",
       "</table>\n",
       "</div>"
      ],
      "text/plain": [
       "     Nombre Calificaciones Deportes Materias\n",
       "0      Juan            100   Futbol  Calculo\n",
       "1    Romina             99    Voley  Lenguas\n",
       "2     Lucas             98  Basquet      N/A\n",
       "3  Cristian            NaN   Futbol   Dibujo\n",
       "4    Damian             96      N/A   Musica"
      ]
     },
     "execution_count": 21,
     "metadata": {},
     "output_type": "execute_result"
    }
   ],
   "source": [
    "dfEliminarPorColumna"
   ]
  },
  {
   "cell_type": "markdown",
   "metadata": {},
   "source": [
    "### Cambiar a cero cualquier valor NaN en el df"
   ]
  },
  {
   "cell_type": "code",
   "execution_count": 22,
   "metadata": {},
   "outputs": [],
   "source": [
    "dfNanCero = pd.DataFrame(dfManipulados)"
   ]
  },
  {
   "cell_type": "code",
   "execution_count": 23,
   "metadata": {},
   "outputs": [],
   "source": [
    "dfNanCero.fillna(0, inplace=True)"
   ]
  },
  {
   "cell_type": "code",
   "execution_count": 24,
   "metadata": {},
   "outputs": [
    {
     "data": {
      "text/html": [
       "<div>\n",
       "<style scoped>\n",
       "    .dataframe tbody tr th:only-of-type {\n",
       "        vertical-align: middle;\n",
       "    }\n",
       "\n",
       "    .dataframe tbody tr th {\n",
       "        vertical-align: top;\n",
       "    }\n",
       "\n",
       "    .dataframe thead th {\n",
       "        text-align: right;\n",
       "    }\n",
       "</style>\n",
       "<table border=\"1\" class=\"dataframe\">\n",
       "  <thead>\n",
       "    <tr style=\"text-align: right;\">\n",
       "      <th></th>\n",
       "      <th>Nombre</th>\n",
       "      <th>Calificaciones</th>\n",
       "      <th>Deportes</th>\n",
       "      <th>Materias</th>\n",
       "    </tr>\n",
       "  </thead>\n",
       "  <tbody>\n",
       "    <tr>\n",
       "      <th>0</th>\n",
       "      <td>Juan</td>\n",
       "      <td>100</td>\n",
       "      <td>Futbol</td>\n",
       "      <td>Calculo</td>\n",
       "    </tr>\n",
       "    <tr>\n",
       "      <th>1</th>\n",
       "      <td>Romina</td>\n",
       "      <td>99</td>\n",
       "      <td>Voley</td>\n",
       "      <td>Lenguas</td>\n",
       "    </tr>\n",
       "    <tr>\n",
       "      <th>2</th>\n",
       "      <td>Lucas</td>\n",
       "      <td>98</td>\n",
       "      <td>Basquet</td>\n",
       "      <td>N/A</td>\n",
       "    </tr>\n",
       "    <tr>\n",
       "      <th>3</th>\n",
       "      <td>Cristian</td>\n",
       "      <td>0</td>\n",
       "      <td>Futbol</td>\n",
       "      <td>Dibujo</td>\n",
       "    </tr>\n",
       "    <tr>\n",
       "      <th>4</th>\n",
       "      <td>Damian</td>\n",
       "      <td>96</td>\n",
       "      <td>N/A</td>\n",
       "      <td>Musica</td>\n",
       "    </tr>\n",
       "    <tr>\n",
       "      <th>5</th>\n",
       "      <td>N/A</td>\n",
       "      <td>95</td>\n",
       "      <td>Futbol</td>\n",
       "      <td>Programación</td>\n",
       "    </tr>\n",
       "  </tbody>\n",
       "</table>\n",
       "</div>"
      ],
      "text/plain": [
       "     Nombre Calificaciones Deportes      Materias\n",
       "0      Juan            100   Futbol       Calculo\n",
       "1    Romina             99    Voley       Lenguas\n",
       "2     Lucas             98  Basquet           N/A\n",
       "3  Cristian              0   Futbol        Dibujo\n",
       "4    Damian             96      N/A        Musica\n",
       "5       N/A             95   Futbol  Programación"
      ]
     },
     "execution_count": 24,
     "metadata": {},
     "output_type": "execute_result"
    }
   ],
   "source": [
    "dfNanCero"
   ]
  },
  {
   "cell_type": "code",
   "execution_count": 25,
   "metadata": {},
   "outputs": [
    {
     "name": "stdout",
     "output_type": "stream",
     "text": [
      "<class 'pandas.core.frame.DataFrame'>\n",
      "RangeIndex: 6 entries, 0 to 5\n",
      "Data columns (total 4 columns):\n",
      "Nombre            6 non-null object\n",
      "Calificaciones    6 non-null object\n",
      "Deportes          6 non-null object\n",
      "Materias          6 non-null object\n",
      "dtypes: object(4)\n",
      "memory usage: 136.0+ bytes\n"
     ]
    }
   ],
   "source": [
    "dfNanCero.info()"
   ]
  },
  {
   "cell_type": "code",
   "execution_count": 26,
   "metadata": {},
   "outputs": [
    {
     "data": {
      "text/html": [
       "<div>\n",
       "<style scoped>\n",
       "    .dataframe tbody tr th:only-of-type {\n",
       "        vertical-align: middle;\n",
       "    }\n",
       "\n",
       "    .dataframe tbody tr th {\n",
       "        vertical-align: top;\n",
       "    }\n",
       "\n",
       "    .dataframe thead th {\n",
       "        text-align: right;\n",
       "    }\n",
       "</style>\n",
       "<table border=\"1\" class=\"dataframe\">\n",
       "  <thead>\n",
       "    <tr style=\"text-align: right;\">\n",
       "      <th></th>\n",
       "      <th>Nombre</th>\n",
       "      <th>Calificaciones</th>\n",
       "      <th>Deportes</th>\n",
       "      <th>Materias</th>\n",
       "    </tr>\n",
       "  </thead>\n",
       "  <tbody>\n",
       "    <tr>\n",
       "      <th>count</th>\n",
       "      <td>6</td>\n",
       "      <td>6</td>\n",
       "      <td>6</td>\n",
       "      <td>6</td>\n",
       "    </tr>\n",
       "    <tr>\n",
       "      <th>unique</th>\n",
       "      <td>6</td>\n",
       "      <td>6</td>\n",
       "      <td>4</td>\n",
       "      <td>6</td>\n",
       "    </tr>\n",
       "    <tr>\n",
       "      <th>top</th>\n",
       "      <td>N/A</td>\n",
       "      <td>98</td>\n",
       "      <td>Futbol</td>\n",
       "      <td>Lenguas</td>\n",
       "    </tr>\n",
       "    <tr>\n",
       "      <th>freq</th>\n",
       "      <td>1</td>\n",
       "      <td>1</td>\n",
       "      <td>3</td>\n",
       "      <td>1</td>\n",
       "    </tr>\n",
       "  </tbody>\n",
       "</table>\n",
       "</div>"
      ],
      "text/plain": [
       "       Nombre Calificaciones Deportes Materias\n",
       "count       6              6        6        6\n",
       "unique      6              6        4        6\n",
       "top       N/A             98   Futbol  Lenguas\n",
       "freq        1              1        3        1"
      ]
     },
     "execution_count": 26,
     "metadata": {},
     "output_type": "execute_result"
    }
   ],
   "source": [
    "dfNanCero.describe()"
   ]
  },
  {
   "cell_type": "markdown",
   "metadata": {},
   "source": [
    "### Convertir a numeros enteros"
   ]
  },
  {
   "cell_type": "code",
   "execution_count": 27,
   "metadata": {},
   "outputs": [],
   "source": [
    "dfNumerosEnteros = pd.DataFrame(dfManipulados)"
   ]
  },
  {
   "cell_type": "code",
   "execution_count": 28,
   "metadata": {},
   "outputs": [],
   "source": [
    "dfNumerosEnteros['Calificaciones'] = dfNumerosEnteros.Calificaciones.astype(int)"
   ]
  },
  {
   "cell_type": "code",
   "execution_count": 29,
   "metadata": {},
   "outputs": [
    {
     "data": {
      "text/html": [
       "<div>\n",
       "<style scoped>\n",
       "    .dataframe tbody tr th:only-of-type {\n",
       "        vertical-align: middle;\n",
       "    }\n",
       "\n",
       "    .dataframe tbody tr th {\n",
       "        vertical-align: top;\n",
       "    }\n",
       "\n",
       "    .dataframe thead th {\n",
       "        text-align: right;\n",
       "    }\n",
       "</style>\n",
       "<table border=\"1\" class=\"dataframe\">\n",
       "  <thead>\n",
       "    <tr style=\"text-align: right;\">\n",
       "      <th></th>\n",
       "      <th>Calificaciones</th>\n",
       "    </tr>\n",
       "  </thead>\n",
       "  <tbody>\n",
       "    <tr>\n",
       "      <th>count</th>\n",
       "      <td>6.000000</td>\n",
       "    </tr>\n",
       "    <tr>\n",
       "      <th>mean</th>\n",
       "      <td>81.333333</td>\n",
       "    </tr>\n",
       "    <tr>\n",
       "      <th>std</th>\n",
       "      <td>39.888177</td>\n",
       "    </tr>\n",
       "    <tr>\n",
       "      <th>min</th>\n",
       "      <td>0.000000</td>\n",
       "    </tr>\n",
       "    <tr>\n",
       "      <th>25%</th>\n",
       "      <td>95.250000</td>\n",
       "    </tr>\n",
       "    <tr>\n",
       "      <th>50%</th>\n",
       "      <td>97.000000</td>\n",
       "    </tr>\n",
       "    <tr>\n",
       "      <th>75%</th>\n",
       "      <td>98.750000</td>\n",
       "    </tr>\n",
       "    <tr>\n",
       "      <th>max</th>\n",
       "      <td>100.000000</td>\n",
       "    </tr>\n",
       "  </tbody>\n",
       "</table>\n",
       "</div>"
      ],
      "text/plain": [
       "       Calificaciones\n",
       "count        6.000000\n",
       "mean        81.333333\n",
       "std         39.888177\n",
       "min          0.000000\n",
       "25%         95.250000\n",
       "50%         97.000000\n",
       "75%         98.750000\n",
       "max        100.000000"
      ]
     },
     "execution_count": 29,
     "metadata": {},
     "output_type": "execute_result"
    }
   ],
   "source": [
    "dfNumerosEnteros.describe()"
   ]
  },
  {
   "cell_type": "code",
   "execution_count": 30,
   "metadata": {},
   "outputs": [
    {
     "name": "stdout",
     "output_type": "stream",
     "text": [
      "<class 'pandas.core.frame.DataFrame'>\n",
      "RangeIndex: 6 entries, 0 to 5\n",
      "Data columns (total 4 columns):\n",
      "Nombre            6 non-null object\n",
      "Calificaciones    6 non-null int32\n",
      "Deportes          6 non-null object\n",
      "Materias          6 non-null object\n",
      "dtypes: int32(1), object(3)\n",
      "memory usage: 136.0+ bytes\n"
     ]
    }
   ],
   "source": [
    "dfNumerosEnteros.info()"
   ]
  },
  {
   "cell_type": "markdown",
   "metadata": {},
   "source": [
    "### Estadisticas individuales"
   ]
  },
  {
   "cell_type": "code",
   "execution_count": 31,
   "metadata": {},
   "outputs": [
    {
     "name": "stdout",
     "output_type": "stream",
     "text": [
      "Promedio:  81.33333333333333\n"
     ]
    }
   ],
   "source": [
    "### Solo el promedio\n",
    "print('Promedio: ', dfNumerosEnteros['Calificaciones'].mean())"
   ]
  },
  {
   "cell_type": "code",
   "execution_count": 32,
   "metadata": {},
   "outputs": [
    {
     "name": "stdout",
     "output_type": "stream",
     "text": [
      "Maximo:  100\n"
     ]
    }
   ],
   "source": [
    "### Solo el maximo\n",
    "print('Maximo: ', dfNumerosEnteros['Calificaciones'].max())"
   ]
  }
 ],
 "metadata": {
  "kernelspec": {
   "display_name": "Python 3",
   "language": "python",
   "name": "python3"
  },
  "language_info": {
   "codemirror_mode": {
    "name": "ipython",
    "version": 3
   },
   "file_extension": ".py",
   "mimetype": "text/x-python",
   "name": "python",
   "nbconvert_exporter": "python",
   "pygments_lexer": "ipython3",
   "version": "3.7.1"
  }
 },
 "nbformat": 4,
 "nbformat_minor": 2
}
