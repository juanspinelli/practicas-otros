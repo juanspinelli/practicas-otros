{
 "cells": [
  {
   "cell_type": "code",
   "execution_count": 1,
   "metadata": {},
   "outputs": [],
   "source": [
    "import pandas as pd\n",
    "import chardet\n",
    "import numpy as np"
   ]
  },
  {
   "cell_type": "code",
   "execution_count": 2,
   "metadata": {},
   "outputs": [],
   "source": [
    " ### with open('atpTour.csv', 'rb') as f:\n",
    " ###   result = chardet.detect(f.read())"
   ]
  },
  {
   "cell_type": "code",
   "execution_count": 3,
   "metadata": {},
   "outputs": [],
   "source": [
    "### result['encoding']"
   ]
  },
  {
   "cell_type": "code",
   "execution_count": 4,
   "metadata": {},
   "outputs": [],
   "source": [
    "datos = pd.read_csv('archivos/atpTour.csv', encoding = 'Windows-1252', low_memory=False)"
   ]
  },
  {
   "cell_type": "code",
   "execution_count": 5,
   "metadata": {},
   "outputs": [],
   "source": [
    "df = pd.DataFrame(datos)\n",
    "limpiarNaN = df.replace(np.nan, '0')\n",
    "archivoConvertidoInt = limpiarNaN.describe(include = [np.number])\n",
    "archivoConvertidoInt = limpiarNaN.replace(\"NR\", \"0\")\n",
    "archivoConvertidoInt['Wsets'] = archivoConvertidoInt.Wsets.astype(float)\n",
    "archivoConvertidoInt['WRank'] = archivoConvertidoInt.WRank.astype(float)\n",
    "archivoConvertidoInt.set_index(\"Location\", inplace = True)\n",
    "resultado = (archivoConvertidoInt\n",
    " .sort_index()\n",
    " .loc[\"Adelaide\":\"St. Petersburg\", 'Series':'Round']\n",
    " .groupby([\"Location\", \"Series\", \"Court\", \"Surface\", \"Round\"])[\"Series\",]\n",
    " .count())\n",
    "resultado.loc[(\"Total\", \"\", \"\", \"\", \"\")] = resultado.sum()"
   ]
  },
  {
   "cell_type": "code",
   "execution_count": 6,
   "metadata": {},
   "outputs": [],
   "source": [
    "resultado = (archivoConvertidoInt\n",
    " .sort_index()\n",
    " .loc[\"Adelaide\":\"St. Petersburg\", 'Series':'Round']\n",
    " .groupby([\"Location\", \"Series\", \"Court\", \"Surface\", \"Round\"])[\"Series\",]\n",
    " .count())\n",
    "resultado.loc[(\"Total\", \"\", \"\", \"\", \"\")] = resultado.sum()"
   ]
  },
  {
   "cell_type": "code",
   "execution_count": 7,
   "metadata": {},
   "outputs": [],
   "source": [
    "resultado.rename(columns={'Series':'Total'}, inplace=True)"
   ]
  },
  {
   "cell_type": "code",
   "execution_count": 8,
   "metadata": {},
   "outputs": [],
   "source": [
    "resultado.reset_index().to_csv('archivos/DatosCompletosManipulados.csv', header = True, index = False)"
   ]
  },
  {
   "cell_type": "code",
   "execution_count": 9,
   "metadata": {},
   "outputs": [],
   "source": [
    " with open('archivos/DatosCompletosManipulados.csv', 'rb') as f:\n",
    "    results = chardet.detect(f.read())"
   ]
  },
  {
   "cell_type": "code",
   "execution_count": 10,
   "metadata": {},
   "outputs": [
    {
     "data": {
      "text/plain": [
       "'ascii'"
      ]
     },
     "execution_count": 10,
     "metadata": {},
     "output_type": "execute_result"
    }
   ],
   "source": [
    "results['encoding']"
   ]
  },
  {
   "cell_type": "code",
   "execution_count": 11,
   "metadata": {},
   "outputs": [],
   "source": [
    "datosManipulados = pd.read_csv('archivos/DatosCompletosManipulados.csv' , encoding = results['encoding'], low_memory=False)"
   ]
  },
  {
   "cell_type": "code",
   "execution_count": 12,
   "metadata": {},
   "outputs": [],
   "source": [
    "dfDatosManipulados = pd.DataFrame(datosManipulados)"
   ]
  },
  {
   "cell_type": "code",
   "execution_count": 13,
   "metadata": {},
   "outputs": [
    {
     "data": {
      "text/html": [
       "<div>\n",
       "<style scoped>\n",
       "    .dataframe tbody tr th:only-of-type {\n",
       "        vertical-align: middle;\n",
       "    }\n",
       "\n",
       "    .dataframe tbody tr th {\n",
       "        vertical-align: top;\n",
       "    }\n",
       "\n",
       "    .dataframe thead th {\n",
       "        text-align: right;\n",
       "    }\n",
       "</style>\n",
       "<table border=\"1\" class=\"dataframe\">\n",
       "  <thead>\n",
       "    <tr style=\"text-align: right;\">\n",
       "      <th></th>\n",
       "      <th>Location</th>\n",
       "      <th>Series</th>\n",
       "      <th>Court</th>\n",
       "      <th>Surface</th>\n",
       "      <th>Round</th>\n",
       "      <th>Total</th>\n",
       "    </tr>\n",
       "  </thead>\n",
       "  <tbody>\n",
       "    <tr>\n",
       "      <th>0</th>\n",
       "      <td>Adelaide</td>\n",
       "      <td>International</td>\n",
       "      <td>Outdoor</td>\n",
       "      <td>Hard</td>\n",
       "      <td>1st Round</td>\n",
       "      <td>128</td>\n",
       "    </tr>\n",
       "    <tr>\n",
       "      <th>1</th>\n",
       "      <td>Adelaide</td>\n",
       "      <td>International</td>\n",
       "      <td>Outdoor</td>\n",
       "      <td>Hard</td>\n",
       "      <td>2nd Round</td>\n",
       "      <td>64</td>\n",
       "    </tr>\n",
       "    <tr>\n",
       "      <th>2</th>\n",
       "      <td>Adelaide</td>\n",
       "      <td>International</td>\n",
       "      <td>Outdoor</td>\n",
       "      <td>Hard</td>\n",
       "      <td>Quarterfinals</td>\n",
       "      <td>36</td>\n",
       "    </tr>\n",
       "    <tr>\n",
       "      <th>3</th>\n",
       "      <td>Adelaide</td>\n",
       "      <td>International</td>\n",
       "      <td>Outdoor</td>\n",
       "      <td>Hard</td>\n",
       "      <td>Round Robin</td>\n",
       "      <td>24</td>\n",
       "    </tr>\n",
       "    <tr>\n",
       "      <th>4</th>\n",
       "      <td>Adelaide</td>\n",
       "      <td>International</td>\n",
       "      <td>Outdoor</td>\n",
       "      <td>Hard</td>\n",
       "      <td>Semifinals</td>\n",
       "      <td>18</td>\n",
       "    </tr>\n",
       "  </tbody>\n",
       "</table>\n",
       "</div>"
      ],
      "text/plain": [
       "   Location         Series    Court Surface          Round  Total\n",
       "0  Adelaide  International  Outdoor    Hard      1st Round    128\n",
       "1  Adelaide  International  Outdoor    Hard      2nd Round     64\n",
       "2  Adelaide  International  Outdoor    Hard  Quarterfinals     36\n",
       "3  Adelaide  International  Outdoor    Hard    Round Robin     24\n",
       "4  Adelaide  International  Outdoor    Hard     Semifinals     18"
      ]
     },
     "execution_count": 13,
     "metadata": {},
     "output_type": "execute_result"
    }
   ],
   "source": [
    "dfDatosManipulados.head()"
   ]
  },
  {
   "cell_type": "code",
   "execution_count": 14,
   "metadata": {},
   "outputs": [],
   "source": [
    "#### Nuevo ARCHIVO\n",
    "dic = {\"Pais 1\": \"Capital 1\", \"Pais 2\" : \"Capital 2\", \"Pais 3\" : \"Capital 3\"}"
   ]
  },
  {
   "cell_type": "code",
   "execution_count": 15,
   "metadata": {},
   "outputs": [],
   "source": [
    "archivo = 'prueba.csv'"
   ]
  },
  {
   "cell_type": "code",
   "execution_count": 16,
   "metadata": {},
   "outputs": [],
   "source": [
    "csv = open(archivo, 'w')\n",
    "titulo = 'Pais, Capital\\n'\n",
    "csv.write(titulo)\n",
    "for key in dic.keys():\n",
    "    pais = key\n",
    "    capital = dic[key]\n",
    "    filas = pais + ',' + capital + '\\n'\n",
    "    csv.write(filas)"
   ]
  },
  {
   "cell_type": "code",
   "execution_count": 18,
   "metadata": {},
   "outputs": [],
   "source": [
    "### OTRO ARCHIVO\n",
    "datosHoras = pd.read_csv('archivos/horas.csv', sep=\";\")"
   ]
  },
  {
   "cell_type": "code",
   "execution_count": 19,
   "metadata": {},
   "outputs": [
    {
     "data": {
      "text/html": [
       "<div>\n",
       "<style scoped>\n",
       "    .dataframe tbody tr th:only-of-type {\n",
       "        vertical-align: middle;\n",
       "    }\n",
       "\n",
       "    .dataframe tbody tr th {\n",
       "        vertical-align: top;\n",
       "    }\n",
       "\n",
       "    .dataframe thead th {\n",
       "        text-align: right;\n",
       "    }\n",
       "</style>\n",
       "<table border=\"1\" class=\"dataframe\">\n",
       "  <thead>\n",
       "    <tr style=\"text-align: right;\">\n",
       "      <th></th>\n",
       "      <th>Date</th>\n",
       "      <th>Time</th>\n",
       "      <th>B</th>\n",
       "      <th>C</th>\n",
       "    </tr>\n",
       "  </thead>\n",
       "  <tbody>\n",
       "    <tr>\n",
       "      <th>0</th>\n",
       "      <td>08/29/2017</td>\n",
       "      <td>00:05:00</td>\n",
       "      <td>2428.25</td>\n",
       "      <td>2428.00</td>\n",
       "    </tr>\n",
       "    <tr>\n",
       "      <th>1</th>\n",
       "      <td>08/29/2017</td>\n",
       "      <td>00:10:00</td>\n",
       "      <td>2428.50</td>\n",
       "      <td>2428.25</td>\n",
       "    </tr>\n",
       "    <tr>\n",
       "      <th>2</th>\n",
       "      <td>08/29/2017</td>\n",
       "      <td>00:15:00</td>\n",
       "      <td>2429.00</td>\n",
       "      <td>2428.50</td>\n",
       "    </tr>\n",
       "    <tr>\n",
       "      <th>3</th>\n",
       "      <td>08/29/2017</td>\n",
       "      <td>00:20:00</td>\n",
       "      <td>2429.50</td>\n",
       "      <td>2428.75</td>\n",
       "    </tr>\n",
       "    <tr>\n",
       "      <th>4</th>\n",
       "      <td>08/29/2017</td>\n",
       "      <td>00:25:00</td>\n",
       "      <td>2429.25</td>\n",
       "      <td>2428.75</td>\n",
       "    </tr>\n",
       "  </tbody>\n",
       "</table>\n",
       "</div>"
      ],
      "text/plain": [
       "         Date      Time        B        C\n",
       "0  08/29/2017  00:05:00  2428.25  2428.00\n",
       "1  08/29/2017  00:10:00  2428.50  2428.25\n",
       "2  08/29/2017  00:15:00  2429.00  2428.50\n",
       "3  08/29/2017  00:20:00  2429.50  2428.75\n",
       "4  08/29/2017  00:25:00  2429.25  2428.75"
      ]
     },
     "execution_count": 19,
     "metadata": {},
     "output_type": "execute_result"
    }
   ],
   "source": [
    "datosHoras.head()"
   ]
  },
  {
   "cell_type": "code",
   "execution_count": 20,
   "metadata": {},
   "outputs": [],
   "source": [
    "dfHoras = pd.DataFrame(datosHoras)"
   ]
  },
  {
   "cell_type": "code",
   "execution_count": 21,
   "metadata": {},
   "outputs": [
    {
     "data": {
      "text/html": [
       "<div>\n",
       "<style scoped>\n",
       "    .dataframe tbody tr th:only-of-type {\n",
       "        vertical-align: middle;\n",
       "    }\n",
       "\n",
       "    .dataframe tbody tr th {\n",
       "        vertical-align: top;\n",
       "    }\n",
       "\n",
       "    .dataframe thead th {\n",
       "        text-align: right;\n",
       "    }\n",
       "</style>\n",
       "<table border=\"1\" class=\"dataframe\">\n",
       "  <thead>\n",
       "    <tr style=\"text-align: right;\">\n",
       "      <th></th>\n",
       "      <th>Date</th>\n",
       "      <th>Time</th>\n",
       "      <th>B</th>\n",
       "      <th>C</th>\n",
       "    </tr>\n",
       "  </thead>\n",
       "  <tbody>\n",
       "    <tr>\n",
       "      <th>0</th>\n",
       "      <td>08/29/2017</td>\n",
       "      <td>00:05:00</td>\n",
       "      <td>2428.25</td>\n",
       "      <td>2428.00</td>\n",
       "    </tr>\n",
       "    <tr>\n",
       "      <th>1</th>\n",
       "      <td>08/29/2017</td>\n",
       "      <td>00:10:00</td>\n",
       "      <td>2428.50</td>\n",
       "      <td>2428.25</td>\n",
       "    </tr>\n",
       "    <tr>\n",
       "      <th>2</th>\n",
       "      <td>08/29/2017</td>\n",
       "      <td>00:15:00</td>\n",
       "      <td>2429.00</td>\n",
       "      <td>2428.50</td>\n",
       "    </tr>\n",
       "    <tr>\n",
       "      <th>3</th>\n",
       "      <td>08/29/2017</td>\n",
       "      <td>00:20:00</td>\n",
       "      <td>2429.50</td>\n",
       "      <td>2428.75</td>\n",
       "    </tr>\n",
       "    <tr>\n",
       "      <th>4</th>\n",
       "      <td>08/29/2017</td>\n",
       "      <td>00:25:00</td>\n",
       "      <td>2429.25</td>\n",
       "      <td>2428.75</td>\n",
       "    </tr>\n",
       "    <tr>\n",
       "      <th>5</th>\n",
       "      <td>08/29/2017</td>\n",
       "      <td>00:30:00</td>\n",
       "      <td>2429.25</td>\n",
       "      <td>2428.75</td>\n",
       "    </tr>\n",
       "    <tr>\n",
       "      <th>6</th>\n",
       "      <td>08/29/2017</td>\n",
       "      <td>00:35:00</td>\n",
       "      <td>2429.00</td>\n",
       "      <td>2428.75</td>\n",
       "    </tr>\n",
       "    <tr>\n",
       "      <th>7</th>\n",
       "      <td>08/29/2017</td>\n",
       "      <td>00:40:00</td>\n",
       "      <td>2429.00</td>\n",
       "      <td>2428.50</td>\n",
       "    </tr>\n",
       "    <tr>\n",
       "      <th>8</th>\n",
       "      <td>08/29/2017</td>\n",
       "      <td>00:45:00</td>\n",
       "      <td>2428.75</td>\n",
       "      <td>2428.25</td>\n",
       "    </tr>\n",
       "    <tr>\n",
       "      <th>9</th>\n",
       "      <td>08/29/2017</td>\n",
       "      <td>00:50:00</td>\n",
       "      <td>2429.25</td>\n",
       "      <td>2428.50</td>\n",
       "    </tr>\n",
       "    <tr>\n",
       "      <th>10</th>\n",
       "      <td>08/29/2017</td>\n",
       "      <td>00:55:00</td>\n",
       "      <td>2429.75</td>\n",
       "      <td>2429.00</td>\n",
       "    </tr>\n",
       "    <tr>\n",
       "      <th>11</th>\n",
       "      <td>08/29/2017</td>\n",
       "      <td>01:00:00</td>\n",
       "      <td>2429.50</td>\n",
       "      <td>2428.75</td>\n",
       "    </tr>\n",
       "    <tr>\n",
       "      <th>12</th>\n",
       "      <td>08/29/2017</td>\n",
       "      <td>01:05:00</td>\n",
       "      <td>2430.25</td>\n",
       "      <td>2429.25</td>\n",
       "    </tr>\n",
       "    <tr>\n",
       "      <th>13</th>\n",
       "      <td>08/29/2017</td>\n",
       "      <td>01:10:00</td>\n",
       "      <td>2430.25</td>\n",
       "      <td>2429.75</td>\n",
       "    </tr>\n",
       "  </tbody>\n",
       "</table>\n",
       "</div>"
      ],
      "text/plain": [
       "          Date      Time        B        C\n",
       "0   08/29/2017  00:05:00  2428.25  2428.00\n",
       "1   08/29/2017  00:10:00  2428.50  2428.25\n",
       "2   08/29/2017  00:15:00  2429.00  2428.50\n",
       "3   08/29/2017  00:20:00  2429.50  2428.75\n",
       "4   08/29/2017  00:25:00  2429.25  2428.75\n",
       "5   08/29/2017  00:30:00  2429.25  2428.75\n",
       "6   08/29/2017  00:35:00  2429.00  2428.75\n",
       "7   08/29/2017  00:40:00  2429.00  2428.50\n",
       "8   08/29/2017  00:45:00  2428.75  2428.25\n",
       "9   08/29/2017  00:50:00  2429.25  2428.50\n",
       "10  08/29/2017  00:55:00  2429.75  2429.00\n",
       "11  08/29/2017  01:00:00  2429.50  2428.75\n",
       "12  08/29/2017  01:05:00  2430.25  2429.25\n",
       "13  08/29/2017  01:10:00  2430.25  2429.75"
      ]
     },
     "execution_count": 21,
     "metadata": {},
     "output_type": "execute_result"
    }
   ],
   "source": [
    "dfHoras"
   ]
  },
  {
   "cell_type": "code",
   "execution_count": 22,
   "metadata": {},
   "outputs": [],
   "source": [
    "dfHoras['PB'] = dfHoras['B'].diff(1)\n",
    "\n",
    "alto = dfHoras.loc[0, 'B']\n",
    "for i in range(1, len(dfHoras)):\n",
    "    if dfHoras.loc[i, 'B'] > dfHoras.loc[i-1, 'B'] and dfHoras.loc[i, 'B'] > alto:\n",
    "        dfHoras.loc[i, 'dB'] = dfHoras.loc[i, 'B'] - alto\n",
    "        alto = dfHoras.loc[i, 'B']\n",
    "    else:\n",
    "        dfHoras.loc[i, 'dB'] = 0"
   ]
  },
  {
   "cell_type": "code",
   "execution_count": 23,
   "metadata": {},
   "outputs": [
    {
     "data": {
      "text/html": [
       "<div>\n",
       "<style scoped>\n",
       "    .dataframe tbody tr th:only-of-type {\n",
       "        vertical-align: middle;\n",
       "    }\n",
       "\n",
       "    .dataframe tbody tr th {\n",
       "        vertical-align: top;\n",
       "    }\n",
       "\n",
       "    .dataframe thead th {\n",
       "        text-align: right;\n",
       "    }\n",
       "</style>\n",
       "<table border=\"1\" class=\"dataframe\">\n",
       "  <thead>\n",
       "    <tr style=\"text-align: right;\">\n",
       "      <th></th>\n",
       "      <th>Date</th>\n",
       "      <th>Time</th>\n",
       "      <th>B</th>\n",
       "      <th>C</th>\n",
       "      <th>PB</th>\n",
       "      <th>dB</th>\n",
       "    </tr>\n",
       "  </thead>\n",
       "  <tbody>\n",
       "    <tr>\n",
       "      <th>0</th>\n",
       "      <td>08/29/2017</td>\n",
       "      <td>00:05:00</td>\n",
       "      <td>2428.25</td>\n",
       "      <td>2428.00</td>\n",
       "      <td>NaN</td>\n",
       "      <td>NaN</td>\n",
       "    </tr>\n",
       "    <tr>\n",
       "      <th>1</th>\n",
       "      <td>08/29/2017</td>\n",
       "      <td>00:10:00</td>\n",
       "      <td>2428.50</td>\n",
       "      <td>2428.25</td>\n",
       "      <td>0.25</td>\n",
       "      <td>0.25</td>\n",
       "    </tr>\n",
       "    <tr>\n",
       "      <th>2</th>\n",
       "      <td>08/29/2017</td>\n",
       "      <td>00:15:00</td>\n",
       "      <td>2429.00</td>\n",
       "      <td>2428.50</td>\n",
       "      <td>0.50</td>\n",
       "      <td>0.50</td>\n",
       "    </tr>\n",
       "    <tr>\n",
       "      <th>3</th>\n",
       "      <td>08/29/2017</td>\n",
       "      <td>00:20:00</td>\n",
       "      <td>2429.50</td>\n",
       "      <td>2428.75</td>\n",
       "      <td>0.50</td>\n",
       "      <td>0.50</td>\n",
       "    </tr>\n",
       "    <tr>\n",
       "      <th>4</th>\n",
       "      <td>08/29/2017</td>\n",
       "      <td>00:25:00</td>\n",
       "      <td>2429.25</td>\n",
       "      <td>2428.75</td>\n",
       "      <td>-0.25</td>\n",
       "      <td>0.00</td>\n",
       "    </tr>\n",
       "    <tr>\n",
       "      <th>5</th>\n",
       "      <td>08/29/2017</td>\n",
       "      <td>00:30:00</td>\n",
       "      <td>2429.25</td>\n",
       "      <td>2428.75</td>\n",
       "      <td>0.00</td>\n",
       "      <td>0.00</td>\n",
       "    </tr>\n",
       "    <tr>\n",
       "      <th>6</th>\n",
       "      <td>08/29/2017</td>\n",
       "      <td>00:35:00</td>\n",
       "      <td>2429.00</td>\n",
       "      <td>2428.75</td>\n",
       "      <td>-0.25</td>\n",
       "      <td>0.00</td>\n",
       "    </tr>\n",
       "    <tr>\n",
       "      <th>7</th>\n",
       "      <td>08/29/2017</td>\n",
       "      <td>00:40:00</td>\n",
       "      <td>2429.00</td>\n",
       "      <td>2428.50</td>\n",
       "      <td>0.00</td>\n",
       "      <td>0.00</td>\n",
       "    </tr>\n",
       "    <tr>\n",
       "      <th>8</th>\n",
       "      <td>08/29/2017</td>\n",
       "      <td>00:45:00</td>\n",
       "      <td>2428.75</td>\n",
       "      <td>2428.25</td>\n",
       "      <td>-0.25</td>\n",
       "      <td>0.00</td>\n",
       "    </tr>\n",
       "    <tr>\n",
       "      <th>9</th>\n",
       "      <td>08/29/2017</td>\n",
       "      <td>00:50:00</td>\n",
       "      <td>2429.25</td>\n",
       "      <td>2428.50</td>\n",
       "      <td>0.50</td>\n",
       "      <td>0.00</td>\n",
       "    </tr>\n",
       "    <tr>\n",
       "      <th>10</th>\n",
       "      <td>08/29/2017</td>\n",
       "      <td>00:55:00</td>\n",
       "      <td>2429.75</td>\n",
       "      <td>2429.00</td>\n",
       "      <td>0.50</td>\n",
       "      <td>0.25</td>\n",
       "    </tr>\n",
       "    <tr>\n",
       "      <th>11</th>\n",
       "      <td>08/29/2017</td>\n",
       "      <td>01:00:00</td>\n",
       "      <td>2429.50</td>\n",
       "      <td>2428.75</td>\n",
       "      <td>-0.25</td>\n",
       "      <td>0.00</td>\n",
       "    </tr>\n",
       "    <tr>\n",
       "      <th>12</th>\n",
       "      <td>08/29/2017</td>\n",
       "      <td>01:05:00</td>\n",
       "      <td>2430.25</td>\n",
       "      <td>2429.25</td>\n",
       "      <td>0.75</td>\n",
       "      <td>0.50</td>\n",
       "    </tr>\n",
       "    <tr>\n",
       "      <th>13</th>\n",
       "      <td>08/29/2017</td>\n",
       "      <td>01:10:00</td>\n",
       "      <td>2430.25</td>\n",
       "      <td>2429.75</td>\n",
       "      <td>0.00</td>\n",
       "      <td>0.00</td>\n",
       "    </tr>\n",
       "  </tbody>\n",
       "</table>\n",
       "</div>"
      ],
      "text/plain": [
       "          Date      Time        B        C    PB    dB\n",
       "0   08/29/2017  00:05:00  2428.25  2428.00   NaN   NaN\n",
       "1   08/29/2017  00:10:00  2428.50  2428.25  0.25  0.25\n",
       "2   08/29/2017  00:15:00  2429.00  2428.50  0.50  0.50\n",
       "3   08/29/2017  00:20:00  2429.50  2428.75  0.50  0.50\n",
       "4   08/29/2017  00:25:00  2429.25  2428.75 -0.25  0.00\n",
       "5   08/29/2017  00:30:00  2429.25  2428.75  0.00  0.00\n",
       "6   08/29/2017  00:35:00  2429.00  2428.75 -0.25  0.00\n",
       "7   08/29/2017  00:40:00  2429.00  2428.50  0.00  0.00\n",
       "8   08/29/2017  00:45:00  2428.75  2428.25 -0.25  0.00\n",
       "9   08/29/2017  00:50:00  2429.25  2428.50  0.50  0.00\n",
       "10  08/29/2017  00:55:00  2429.75  2429.00  0.50  0.25\n",
       "11  08/29/2017  01:00:00  2429.50  2428.75 -0.25  0.00\n",
       "12  08/29/2017  01:05:00  2430.25  2429.25  0.75  0.50\n",
       "13  08/29/2017  01:10:00  2430.25  2429.75  0.00  0.00"
      ]
     },
     "execution_count": 23,
     "metadata": {},
     "output_type": "execute_result"
    }
   ],
   "source": [
    "dfHoras"
   ]
  },
  {
   "cell_type": "code",
   "execution_count": 24,
   "metadata": {},
   "outputs": [],
   "source": [
    "total = dfHoras['dB'].sum()"
   ]
  },
  {
   "cell_type": "code",
   "execution_count": 25,
   "metadata": {},
   "outputs": [
    {
     "name": "stdout",
     "output_type": "stream",
     "text": [
      "El total es :  2.0\n",
      "La suma parcial (PB) es:  3.0\n"
     ]
    }
   ],
   "source": [
    "print('El total es : ' , total)\n",
    "print('La suma parcial (PB) es: ', dfHoras.loc[dfHoras['PB']>0, 'PB'].sum())"
   ]
  },
  {
   "cell_type": "code",
   "execution_count": 26,
   "metadata": {},
   "outputs": [],
   "source": [
    "dfHoras.reset_index().to_csv('archivos/Final.csv', header= True, index = False)"
   ]
  }
 ],
 "metadata": {
  "kernelspec": {
   "display_name": "Python 3",
   "language": "python",
   "name": "python3"
  },
  "language_info": {
   "codemirror_mode": {
    "name": "ipython",
    "version": 3
   },
   "file_extension": ".py",
   "mimetype": "text/x-python",
   "name": "python",
   "nbconvert_exporter": "python",
   "pygments_lexer": "ipython3",
   "version": "3.7.1"
  }
 },
 "nbformat": 4,
 "nbformat_minor": 2
}
